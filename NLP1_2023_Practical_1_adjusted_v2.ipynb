{
  "cells": [
    {
      "cell_type": "markdown",
      "metadata": {
        "id": "1-aRiOgl4nHg"
      },
      "source": [
        "------\n",
        "**You cannot save any changes you make to this file, so please make sure to save it on your Google Colab drive or download it as a .ipynb file.**\n",
        "\n",
        "------\n",
        "\n"
      ]
    },
    {
      "cell_type": "markdown",
      "metadata": {
        "id": "lIZrAUx57vsM"
      },
      "source": [
        "Practical 1: Sentiment Detection in Movie Reviews\n",
        "========================================\n",
        "\n"
      ]
    },
    {
      "cell_type": "markdown",
      "metadata": {
        "id": "J4kXPMhyngZW"
      },
      "source": [
        "This practical concerns detecting sentiment in movie reviews. This is a typical NLP classification task.\n",
        "In [this file](https://gist.githubusercontent.com/bastings/d47423301cca214e3930061a5a75e177/raw/5113687382919e22b1f09ce71a8fecd1687a5760/reviews.json) (80MB) you will find 1000 positive and 1000 negative **movie reviews**.\n",
        "Each review is a **document** and consists of one or more sentences.\n",
        "\n",
        "To prepare yourself for this practical, you should\n",
        "have a look at a few of these texts to understand the difficulties of\n",
        "the task: how might one go about classifying the texts? You will write\n",
        "code that decides whether a movie review conveys positive or\n",
        "negative sentiment.\n",
        "\n",
        "Please make sure you have read the following paper:\n",
        "\n",
        ">   Bo Pang, Lillian Lee, and Shivakumar Vaithyanathan\n",
        "(2002).\n",
        "[Thumbs up? Sentiment Classification using Machine Learning\n",
        "Techniques](https://dl.acm.org/citation.cfm?id=1118704). EMNLP.\n",
        "\n",
        "Bo Pang et al. introduced the movie review sentiment\n",
        "classification task, and the above paper was one of the first papers on\n",
        "the topic. The first version of your sentiment classifier will do\n",
        "something similar to Pang et al.'s system. If you have questions about it,\n",
        "you should resolve you doubts as soon as possible with your TA.\n"
      ]
    },
    {
      "cell_type": "markdown",
      "metadata": {
        "id": "cb7errgRASzZ"
      },
      "source": [
        "**Advice**\n",
        "\n",
        "Please read through the entire practical and familiarise\n",
        "yourself with all requirements before you start coding or otherwise\n",
        "solving the tasks. Writing clean and concise code can make the difference\n",
        "between solving the assignment in a matter of hours, and taking days to\n",
        "run all experiments.\n",
        "\n",
        "\n",
        "**Implementation**\n",
        "\n",
        "While we inserted code cells to indicate where you should implement your own code, please feel free to add/remove code blocks where you see fit (but make sure that the general structure of the assignment is preserved). Also, please keep in mind that it is always good practice to structure your code properly, e.g., by implementing separate classes and functions that can be reused.\n",
        "\n",
        "## Environment\n",
        "\n",
        "All code should be written in **Python 3**.\n",
        "This is the default in Google Colab."
      ]
    },
    {
      "cell_type": "code",
      "execution_count": null,
      "metadata": {
        "colab": {
          "base_uri": "https://localhost:8080/"
        },
        "id": "SaZnxptMJiD7",
        "outputId": "dfdb19c1-5607-4bc1-fee4-82cdc3a79609"
      },
      "outputs": [
        {
          "output_type": "stream",
          "name": "stdout",
          "text": [
            "Python 3.10.12\n"
          ]
        }
      ],
      "source": [
        "!python --version"
      ]
    },
    {
      "cell_type": "markdown",
      "metadata": {
        "id": "BYZyIF7lJnGn"
      },
      "source": [
        "If you want to run code on your own computer, then download this notebook through `File -> Download .ipynb`.\n",
        "The easiest way to\n",
        "install Python is through downloading\n",
        "[Anaconda](https://www.anaconda.com/download).\n",
        "After installation, you can start the notebook by typing `jupyter notebook filename.ipynb`.\n",
        "You can also use an IDE\n",
        "such as [PyCharm](https://www.jetbrains.com/pycharm/download/) to make\n",
        "coding and debugging easier. It is good practice to create a [virtual\n",
        "environment](https://docs.python.org/3/tutorial/venv.html) for this\n",
        "project, so that any Python packages don’t interfere with other\n",
        "projects.\n",
        "\n",
        "\n",
        "**Learning Python 3**\n",
        "\n",
        "If you are new to Python 3, you may want to check out a few of these resources:\n",
        "- https://learnxinyminutes.com/docs/python3/\n",
        "- https://www.learnpython.org/\n",
        "- https://docs.python.org/3/tutorial/"
      ]
    },
    {
      "cell_type": "code",
      "execution_count": 99,
      "metadata": {
        "id": "hok-BFu9lGoK"
      },
      "outputs": [],
      "source": [
        "import math\n",
        "import os\n",
        "import sys\n",
        "from subprocess import call\n",
        "from nltk import FreqDist\n",
        "from nltk.util import ngrams\n",
        "from nltk.stem.porter import PorterStemmer\n",
        "import sklearn as sk\n",
        "#from google.colab import drive\n",
        "import pickle\n",
        "import json\n",
        "from collections import Counter\n",
        "import requests\n",
        "import matplotlib.pyplot as plt\n",
        "import numpy as np"
      ]
    },
    {
      "cell_type": "code",
      "execution_count": 100,
      "metadata": {
        "colab": {
          "base_uri": "https://localhost:8080/"
        },
        "id": "A71foPy9GUT1",
        "outputId": "2008b122-24e0-4d55-9a03-62b2de39a793"
      },
      "outputs": [
        {
          "output_type": "stream",
          "name": "stdout",
          "text": [
            "--2023-11-08 10:47:39--  https://gist.githubusercontent.com/bastings/d6f99dcb6c82231b94b013031356ba05/raw/f80a0281eba8621b122012c89c8b5e2200b39fd6/sent_lexicon\n",
            "Resolving gist.githubusercontent.com (gist.githubusercontent.com)... 185.199.108.133, 185.199.109.133, 185.199.110.133, ...\n",
            "Connecting to gist.githubusercontent.com (gist.githubusercontent.com)|185.199.108.133|:443... connected.\n",
            "HTTP request sent, awaiting response... 200 OK\n",
            "Length: 662577 (647K) [text/plain]\n",
            "Saving to: ‘sent_lexicon.1’\n",
            "\n",
            "\rsent_lexicon.1        0%[                    ]       0  --.-KB/s               \rsent_lexicon.1      100%[===================>] 647.05K  --.-KB/s    in 0.04s   \n",
            "\n",
            "2023-11-08 10:47:39 (17.8 MB/s) - ‘sent_lexicon.1’ saved [662577/662577]\n",
            "\n",
            "--2023-11-08 10:47:39--  https://gist.githubusercontent.com/bastings/d47423301cca214e3930061a5a75e177/raw/5113687382919e22b1f09ce71a8fecd1687a5760/reviews.json\n",
            "Resolving gist.githubusercontent.com (gist.githubusercontent.com)... 185.199.108.133, 185.199.109.133, 185.199.110.133, ...\n",
            "Connecting to gist.githubusercontent.com (gist.githubusercontent.com)|185.199.108.133|:443... connected.\n",
            "HTTP request sent, awaiting response... 200 OK\n",
            "Length: 83503869 (80M) [text/plain]\n",
            "Saving to: ‘reviews.json.1’\n",
            "\n",
            "reviews.json.1      100%[===================>]  79.63M   293MB/s    in 0.3s    \n",
            "\n",
            "2023-11-08 10:47:40 (293 MB/s) - ‘reviews.json.1’ saved [83503869/83503869]\n",
            "\n"
          ]
        }
      ],
      "source": [
        "# download sentiment lexicon\n",
        "!wget https://gist.githubusercontent.com/bastings/d6f99dcb6c82231b94b013031356ba05/raw/f80a0281eba8621b122012c89c8b5e2200b39fd6/sent_lexicon\n",
        "# download review data\n",
        "!wget https://gist.githubusercontent.com/bastings/d47423301cca214e3930061a5a75e177/raw/5113687382919e22b1f09ce71a8fecd1687a5760/reviews.json\n"
      ]
    },
    {
      "cell_type": "markdown",
      "metadata": {
        "id": "bXWyGHwE-ieQ"
      },
      "source": [
        "## Loading the data\n",
        "\n",
        "**Download the sentiment lexicon and the movie reviews dataset.**"
      ]
    },
    {
      "cell_type": "markdown",
      "metadata": {
        "id": "AkPwuHp5LSuQ"
      },
      "source": [
        "**Load the movie reviews.**\n",
        "\n",
        "Each word in a review comes with its part-of-speech tag. For documentation on POS-tags, see https://catalog.ldc.upenn.edu/docs/LDC99T42/tagguid1.pdf.\n"
      ]
    },
    {
      "cell_type": "code",
      "execution_count": 101,
      "metadata": {
        "colab": {
          "base_uri": "https://localhost:8080/"
        },
        "id": "careEKj-mRpl",
        "outputId": "29397af9-4469-459f-86cf-a3284e1e46d2"
      },
      "outputs": [
        {
          "output_type": "stream",
          "name": "stdout",
          "text": [
            "Total number of reviews: 2000 \n",
            "\n",
            "0 NEG 29\n",
            "Two/CD teen/JJ couples/NNS go/VBP to/TO a/DT church/NN party/NN ,/, drink/NN and/CC then/RB drive/NN ./.\n",
            "1 NEG 11\n",
            "Damn/JJ that/IN Y2K/CD bug/NN ./.\n",
            "2 NEG 24\n",
            "It/PRP is/VBZ movies/NNS like/IN these/DT that/WDT make/VBP a/DT jaded/JJ movie/NN viewer/NN thankful/JJ for/IN the/DT invention/NN of/IN the/DT Timex/NNP IndiGlo/NNP watch/NN ./.\n",
            "3 NEG 19\n",
            "QUEST/NN FOR/IN CAMELOT/NNP ``/`` Quest/NNP for/IN Camelot/NNP ''/'' is/VBZ Warner/NNP Bros./NNP '/POS first/JJ feature-length/JJ ,/, fully-animated/JJ attempt/NN to/TO steal/VB clout/NN from/IN Disney/NNP 's/POS cartoon/NN empire/NN ,/, but/CC the/DT mouse/NN has/VBZ no/DT reason/NN to/TO be/VB worried/VBN ./.\n",
            "4 NEG 38\n",
            "Synopsis/NNPS :/: A/DT mentally/RB unstable/JJ man/NN undergoing/VBG psychotherapy/NN saves/VBZ a/DT boy/NN from/IN a/DT potentially/RB fatal/JJ accident/NN and/CC then/RB falls/VBZ in/IN love/NN with/IN the/DT boy/NN 's/POS mother/NN ,/, a/DT fledgling/NN restauranteur/NN ./.\n",
            "5 NEG 35\n",
            "In/IN 2176/CD on/IN the/DT planet/NN Mars/NNP police/NN taking/VBG into/IN custody/NN an/DT accused/VBN murderer/NN face/VBP the/DT title/NN menace/NN ./.\n",
            "6 NEG 27\n",
            "So/RB ask/VB yourself/PRP what/WP ``/`` 8MM/NN ''/'' -LRB-/-LRB- ``/`` Eight/CD Millimeter/NNP ''/'' -RRB-/-RRB- is/VBZ really/RB all/DT about/RB ./.\n",
            "7 NEG 25\n",
            "That/DT 's/VBZ exactly/RB how/WRB long/RB the/DT movie/NN felt/VBD to/TO me/PRP ./.\n",
            "8 NEG 33\n",
            "Call/VB it/PRP a/DT road/NN trip/NN for/IN the/DT walking/VBG wounded/VBN ./.\n",
            "9 NEG 42\n",
            "A/DT young/JJ French/JJ boy/NN sees/VBZ his/PRP$ parents/NNS killed/VBN before/IN his/PRP$ eyes/NNS by/IN Tim/NNP Roth/NNP ,/, oops/NNS .../: I/PRP mean/VBP ,/, an/DT evil/JJ man/NN ./.\n",
            "10 NEG 33\n",
            "Best/NN remembered/VBD for/IN his/PRP$ understated/VBN performance/NN as/IN Dr./NNP Hannibal/NNP Lecter/NNP in/IN Michael/NNP Mann/NNP 's/POS forensics/NNS thriller/NN ,/, Manhunter/NNP ,/, Scottish/NNP character/NN actor/NN Brian/NNP Cox/NNP brings/VBZ something/NN special/JJ to/TO every/DT movie/NN he/PRP works/VBZ on/IN ./.\n",
            "\n",
            "Number of word types: 47743\n",
            "Number of word tokens: 1512359\n",
            "\n",
            "Most common tokens:\n",
            "         , :    77842\n",
            "       the :    75948\n",
            "         . :    59027\n",
            "         a :    37583\n",
            "       and :    35235\n",
            "        of :    33864\n",
            "        to :    31601\n",
            "        is :    25972\n",
            "        in :    21563\n",
            "        's :    18043\n",
            "        it :    15904\n",
            "      that :    15820\n",
            "     -rrb- :    11768\n",
            "     -lrb- :    11670\n",
            "        as :    11312\n",
            "      with :    10739\n",
            "       for :     9816\n",
            "       his :     9542\n",
            "      this :     9497\n",
            "      film :     9404\n"
          ]
        }
      ],
      "source": [
        "# file structure:\n",
        "# [\n",
        "#  {\"cv\": integer, \"sentiment\": str, \"content\": list}\n",
        "#  {\"cv\": integer, \"sentiment\": str, \"content\": list}\n",
        "#   ..\n",
        "# ]\n",
        "# where `content` is a list of sentences,\n",
        "# with a sentence being a list of (token, pos_tag) pairs.\n",
        "\n",
        "\n",
        "with open(\"reviews.json\", mode=\"r\", encoding=\"utf-8\") as f:\n",
        "  reviews = json.load(f)\n",
        "\n",
        "print(\"Total number of reviews:\", len(reviews), '\\n')\n",
        "\n",
        "def print_sentence_with_pos(s):\n",
        "  print(\" \".join(\"%s/%s\" % (token, pos_tag) for token, pos_tag in s))\n",
        "\n",
        "def print_sentence(s):\n",
        "  print(\" \".join(s))\n",
        "\n",
        "for i, r in enumerate(reviews):\n",
        "  print(r[\"cv\"], r[\"sentiment\"], len(r[\"content\"]))  # cv, sentiment, num sents\n",
        "  print_sentence_with_pos(r[\"content\"][0])\n",
        "  if i == 10:\n",
        "    break\n",
        "\n",
        "c = Counter()\n",
        "for review in reviews:\n",
        "  for sentence in review[\"content\"]:\n",
        "    for token, pos_tag in sentence:\n",
        "      c[token.lower()] += 1\n",
        "\n",
        "\n",
        "print(\"\\nNumber of word types:\", len(c))\n",
        "print(\"Number of word tokens:\", sum(c.values()))\n",
        "\n",
        "print(\"\\nMost common tokens:\")\n",
        "for token, count in c.most_common(20):\n",
        "  print(\"%10s : %8d\" % (token, count))\n"
      ]
    },
    {
      "cell_type": "code",
      "execution_count": 102,
      "metadata": {
        "colab": {
          "base_uri": "https://localhost:8080/"
        },
        "id": "Ty0Fe8j2LOkG",
        "outputId": "de5cf9f1-e838-41c0-aa7e-c1e1282da022"
      },
      "outputs": [
        {
          "output_type": "execute_result",
          "data": {
            "text/plain": [
              "[['Two',\n",
              "  'teen',\n",
              "  'couples',\n",
              "  'go',\n",
              "  'to',\n",
              "  'a',\n",
              "  'church',\n",
              "  'party',\n",
              "  ',',\n",
              "  'drink',\n",
              "  'and',\n",
              "  'then',\n",
              "  'drive',\n",
              "  '.'],\n",
              " ['Damn', 'that', 'Y2K', 'bug', '.']]"
            ]
          },
          "metadata": {},
          "execution_count": 102
        }
      ],
      "source": [
        "pene = []\n",
        "\n",
        "for i, r in enumerate(reviews):\n",
        "    tokens = [token[0] for token in r[\"content\"][0]]\n",
        "    sentence = \" \".join(tokens)\n",
        "    hola = sentence.split(' ')\n",
        "    pene.append(hola)\n",
        "\n",
        "    if i == 1:\n",
        "        break\n",
        "\n",
        "# Now, reviews will contain a list of strings, each representing a sentence.\n",
        "pene"
      ]
    },
    {
      "cell_type": "markdown",
      "metadata": {
        "id": "E6PWaEoh8B34"
      },
      "source": [
        "#(1) Lexicon-based approach (3.5pts)\n",
        "\n"
      ]
    },
    {
      "cell_type": "markdown",
      "metadata": {
        "id": "JsTSMb6ma4E8"
      },
      "source": [
        "A traditional approach to classify documents according to their sentiment is the lexicon-based approach. To implement this approach, you need a **sentiment lexicon**, i.e., a list of words annotated with a sentiment label (e.g., positive and negative, or a score from 0 to 5).\n",
        "\n",
        "In this practical, you will use the sentiment\n",
        "lexicon released by Wilson et al. (2005).\n",
        "\n",
        "> Theresa Wilson, Janyce Wiebe, and Paul Hoffmann\n",
        "(2005). [Recognizing Contextual Polarity in Phrase-Level Sentiment\n",
        "Analysis](http://www.aclweb.org/anthology/H/H05/H05-1044.pdf). HLT-EMNLP.\n",
        "\n",
        "Pay attention to all the information available in the sentiment lexicon. The field *word1* contains the lemma, *priorpolarity* contains the sentiment label (positive, negative, both, or neutral), *type* gives you the magnitude of the word's sentiment (strong or weak), and *pos1* gives you the part-of-speech tag of the lemma. Some lemmas can have multiple part-of-speech tags and thus multiple entries in the lexicon. The path of the lexicon file is `\"sent_lexicon\"`.\n"
      ]
    },
    {
      "cell_type": "markdown",
      "metadata": {
        "id": "Mml4nOtIUBhn"
      },
      "source": [
        "Lexica such as this can be used to solve\n",
        "the classification task without using Machine Learning. For example, one might look up every word $w_1 ... w_n$ in a document, and compute a **binary score**\n",
        "$S_{binary}$ by counting how many words have a positive or a\n",
        "negative label in the sentiment lexicon $SLex$.\n",
        "\n",
        "$$S_{binary}(w_1 w_2 ... w_n) = \\sum_{i = 1}^{n}\\text{sign}(SLex\\big[w_i\\big])$$\n",
        "\n",
        "where $\\text{sign}(SLex\\big[w_i\\big])$ refers to the polarity of $w_i$.\n",
        "\n",
        "**Threshold.** On average, there are more positive than negative words per review (~7.13 more positive than negative per review) to take this bias into account you should use a threshold of **8** (roughly the bias itself) to make it harder to classify as positive.\n",
        "\n",
        "$$\n",
        "\\text{classify}(S_{binary}(w_1 w_2 ... w_n)) = \\bigg\\{\\begin{array}{ll}\n",
        "        \\text{positive} & \\text{if } S_{binary}(w_1w_2...w_n) > threshold\\\\\n",
        "        \\text{negative} & \\text{otherwise}\n",
        "        \\end{array}\n",
        "$$\n"
      ]
    },
    {
      "cell_type": "markdown",
      "metadata": {
        "id": "tOFnMvbeeZrc"
      },
      "source": [
        "#### (Q1.1) Implement this approach and report its classification accuracy. (1 pt)"
      ]
    },
    {
      "cell_type": "code",
      "execution_count": 103,
      "metadata": {
        "id": "HmgMqBbQDOqY"
      },
      "outputs": [],
      "source": [
        "# Initialize an empty dictionary to store word polarity information\n",
        "lexicon_dict = {}\n",
        "\n",
        "# Open the file named \"sent_lexicon\" for reading with UTF-8 encoding\n",
        "with open(\"sent_lexicon\", mode=\"r\", encoding=\"utf-8\") as f:\n",
        "    # Iterate through each line in the file\n",
        "    for line in f:\n",
        "        # Split the line into a list of pairs\n",
        "        pairs = line.split()\n",
        "\n",
        "        # Extract the word from the line (it's found in the third position and separated by '=')\n",
        "        word = pairs[2].split('=')[1]\n",
        "\n",
        "        # Extract the polarity information (it's found in the last position and separated by '=')\n",
        "        polarity = pairs[-1].split('=')[1]\n",
        "\n",
        "        # Check the polarity value and convert it to a numeric value\n",
        "        if polarity == \"positive\":\n",
        "            polarity = 1\n",
        "        elif polarity == \"negative\":\n",
        "            polarity = -1\n",
        "        else:\n",
        "            polarity = 0  # If neither positive nor negative, assume polarity as 0 (neutral)\n",
        "\n",
        "        # Add the word and its corresponding polarity to the lexicon_dict dictionary\n",
        "        lexicon_dict[word] = polarity\n"
      ]
    },
    {
      "cell_type": "code",
      "execution_count": 104,
      "metadata": {
        "colab": {
          "base_uri": "https://localhost:8080/"
        },
        "id": "_ohaIZNkHjA-",
        "outputId": "82c3a252-8d9c-4812-e8a5-2cc1904a5f37"
      },
      "outputs": [
        {
          "output_type": "stream",
          "name": "stdout",
          "text": [
            "Accuracy: 0.68\n"
          ]
        }
      ],
      "source": [
        "# Initialize empty lists to store the token-based results, ground truth results, and an intermediate list 'pene'\n",
        "token_results = []\n",
        "ground_results = []\n",
        "\n",
        "# Iterate through each review in the 'reviews' list\n",
        "for review in reviews:\n",
        "    # Check the sentiment label of the review and convert it to binary (1 for 'POS', 0 for other sentiments)\n",
        "    if review['sentiment'] == 'POS':\n",
        "        ground_results.append(1)\n",
        "    else:\n",
        "        ground_results.append(0)\n",
        "\n",
        "    # Initialize the sum for the current review\n",
        "    review_sum = 0\n",
        "\n",
        "    # Iterate through each sentence in the 'content' of the review\n",
        "    for sentence in review[\"content\"]:\n",
        "        # Extract tokens from the sentence\n",
        "        sentence_tokens = [token for token, _ in sentence]\n",
        "\n",
        "        # Look up token values in the 'lexicon_dict' and replace them with 0 if not found\n",
        "        sentence_tokens_values = [lexicon_dict.get(token, 0) for token in sentence_tokens]\n",
        "\n",
        "        # Accumulate the sum of token values for the current review\n",
        "        review_sum += sum(sentence_tokens_values)\n",
        "\n",
        "        # Append the cumulative 'review_sum' to the 'pene' list for this review\n",
        "\n",
        "    # Check if the cumulative sum for the review is greater than 8\n",
        "    if review_sum > 8:\n",
        "        token_results.append(1)\n",
        "    else:\n",
        "        token_results.append(0)\n",
        "\n",
        "# Calculate token-based accuracy by comparing 'token_results' with 'ground_results'\n",
        "token_accuracy = 0\n",
        "for x, y in zip(token_results, ground_results):\n",
        "    if x == y:\n",
        "        token_accuracy += 1\n",
        "\n",
        "# Calculate the overall accuracy and store it in 'accuracy_1'\n",
        "accuracy_1 = token_accuracy / len(reviews)\n",
        "\n",
        "# Print the accuracy as a percentage with two decimal places\n",
        "print(\"Accuracy: %0.2f\" % accuracy_1)\n",
        "\n"
      ]
    },
    {
      "cell_type": "markdown",
      "metadata": {
        "id": "Twox0s_3eS0V"
      },
      "source": [
        "As the sentiment lexicon also has information about the **magnitude** of\n",
        "sentiment (e.g., *“excellent\"* has the same sentiment _polarity_ as *“good\"* but it has a higher magnitude), we can take a more fine-grained approach by adding up all\n",
        "sentiment scores, and deciding the polarity of the movie review using\n",
        "the sign of the weighted score $S_{weighted}$.\n",
        "\n",
        "$$S_{weighted}(w_1w_2...w_n) = \\sum_{i = 1}^{n}SLex\\big[w_i\\big]$$\n",
        "\n",
        "\n",
        "Make sure you define an appropriate threshold for this approach.\n",
        "\n",
        "#### (Q1.2) Now incorporate magnitude information and report the classification accuracy. Don't forget to use the threshold. (1pt)"
      ]
    },
    {
      "cell_type": "code",
      "execution_count": 105,
      "metadata": {
        "id": "zUxlGOZRRPJq"
      },
      "outputs": [],
      "source": [
        "# Initialize an empty dictionary to store word polarity information\n",
        "lexicon_dict = {}\n",
        "\n",
        "# Open the file named \"sent_lexicon\" for reading with UTF-8 encoding\n",
        "with open(\"sent_lexicon\", mode=\"r\", encoding=\"utf-8\") as f:\n",
        "    # Iterate through each line in the file\n",
        "    for line in f:\n",
        "        # Split the line into a list of pairs based on whitespace\n",
        "        pairs = line.split()\n",
        "\n",
        "        # Extract the word from the line (it's found in the third position and separated by '=')\n",
        "        word = pairs[2].split('=')[1]\n",
        "\n",
        "        # Extract the polarity information (it's found in the last position and separated by '=')\n",
        "        pol = pairs[-1].split('=')[1]\n",
        "\n",
        "        # Extract the subtype of the word (it's found in the first position and separated by '=')\n",
        "        subtype = pairs[0].split('=')[1]\n",
        "\n",
        "        # Initialize the polarity variable to 0 (neutral)\n",
        "        polarity = 0\n",
        "\n",
        "        # Check the polarity value and convert it to a numeric value\n",
        "        if pol == \"positive\":\n",
        "            polarity = 1\n",
        "        elif pol == \"negative\":\n",
        "            polarity = -1\n",
        "        else:\n",
        "            polarity = 0\n",
        "\n",
        "        # If the subtype is 'strongsubj', double the polarity value\n",
        "        if subtype == 'strongsubj':\n",
        "            polarity *= 2\n",
        "\n",
        "        # Add the word and its corresponding polarity to the lexicon_dict dictionary\n",
        "        lexicon_dict[word] = polarity\n"
      ]
    },
    {
      "cell_type": "code",
      "execution_count": 106,
      "metadata": {
        "colab": {
          "base_uri": "https://localhost:8080/"
        },
        "id": "4ll7N4drUIX8",
        "outputId": "ef8446b6-3324-403b-b067-39fefc9e6236"
      },
      "outputs": [
        {
          "output_type": "stream",
          "name": "stdout",
          "text": [
            "Accuracy: 0.68\n"
          ]
        }
      ],
      "source": [
        "# Initialize an empty list to store the token-based results for a different set (token_results_2)\n",
        "# and a list to store the ground truth results\n",
        "token_results_2 = []\n",
        "ground_results = []\n",
        "\n",
        "# Iterate through each review in the 'reviews' list\n",
        "for review in reviews:\n",
        "    # Check the sentiment label of the review and convert it to binary (1 for 'POS', 0 for other sentiments)\n",
        "    if review['sentiment'] == 'POS':\n",
        "        ground_results.append(1)\n",
        "    else:\n",
        "        ground_results.append(0)\n",
        "\n",
        "    # Initialize the sum for the current review\n",
        "    review_sum = 0\n",
        "\n",
        "    # Iterate through each sentence in the 'content' of the review\n",
        "    for sentence in review[\"content\"]:\n",
        "        # Extract tokens from the sentence\n",
        "        sentence_tokens = [token for token, _ in sentence]\n",
        "\n",
        "        # Look up token values in the 'lexicon_dict' and replace them with 0 if not found\n",
        "        sentence_tokens_values = [lexicon_dict.get(token, 0) for token in sentence_tokens]\n",
        "\n",
        "        # Accumulate the sum of token values for the current review\n",
        "        review_sum += sum(sentence_tokens_values)\n",
        "\n",
        "    # Check if the cumulative sum for the review is greater than 8\n",
        "    if review_sum > 8:\n",
        "        token_results_2.append(1)\n",
        "    else:\n",
        "        token_results_2.append(0)\n",
        "\n",
        "# Calculate token-based accuracy by comparing 'token_results_2' with 'ground_results'\n",
        "token_accuracy = 0\n",
        "for x, y in zip(token_results_2, ground_results):\n",
        "    if x == y:\n",
        "        token_accuracy += 1\n",
        "\n",
        "# Calculate the overall accuracy for this set and store it in 'accuracy_2'\n",
        "accuracy_2 = token_accuracy / len(reviews)\n",
        "\n",
        "# Print the accuracy as a percentage with two decimal places\n",
        "print(\"Accuracy: %0.2f\" % accuracy_2)\n"
      ]
    },
    {
      "cell_type": "markdown",
      "metadata": {
        "id": "h9SHoGPfsAHV"
      },
      "source": [
        "#### (Q.1.3) Make a barplot of the two results (0.5pt)"
      ]
    },
    {
      "cell_type": "code",
      "execution_count": 107,
      "metadata": {
        "colab": {
          "base_uri": "https://localhost:8080/",
          "height": 435
        },
        "id": "8LgBcYcXsEk3",
        "outputId": "037ea3ed-c2a0-4b14-8b36-a8bca43c54d9"
      },
      "outputs": [
        {
          "output_type": "display_data",
          "data": {
            "text/plain": [
              "<Figure size 640x480 with 1 Axes>"
            ],
            "image/png": "[encoded data removed]"
          },
          "metadata": {}
        }
      ],
      "source": [
        "plt.bar(['token', 'magnitude'],[accuracy_1, accuracy_2])\n",
        "plt.ylim([0, 1])\n",
        "# Show Plot\n",
        "plt.show()"
      ]
    },
    {
      "cell_type": "markdown",
      "metadata": {
        "id": "sNhS8OCVxMHd"
      },
      "source": [
        "#### (Q1.4) A better threshold (1pt)\n",
        "Above we have defined a threshold to account for an inherent bias in the dataset: there are more positive than negative words per review.\n",
        "However, that threshold does not take into account *document length*. Explain why this is a problem and implement an alternative way to compute the threshold."
      ]
    },
    {
      "cell_type": "markdown",
      "metadata": {
        "id": "xo7gk1I-omLI"
      },
      "source": [
        "*Write your answer here.*"
      ]
    },
    {
      "cell_type": "code",
      "execution_count": 108,
      "metadata": {
        "colab": {
          "base_uri": "https://localhost:8080/"
        },
        "id": "z-DKB7oh0u38",
        "outputId": "75e3f21f-dce7-4a7a-d94e-e6b6223ad426"
      },
      "outputs": [
        {
          "output_type": "stream",
          "name": "stdout",
          "text": [
            "Accuracy: %0.2f 0.648\n"
          ]
        }
      ],
      "source": [
        "length = []\n",
        "for review in reviews:\n",
        "    content_length = len(review[\"content\"])\n",
        "    length.append(content_length)\n",
        "\n",
        "average_len_review = np.average(length)\n",
        "\n",
        "token_results_3 = []\n",
        "\n",
        "for review in reviews:\n",
        "    review_sum = 0  # Initialize the sum for the review\n",
        "    review_len = len(review['content'])\n",
        "    for sentence in review[\"content\"]:\n",
        "        sentence_tokens = [token for token, _ in sentence]\n",
        "        sentence_tokens_values = [lexicon_dict.get(token, 0) for token in sentence_tokens]\n",
        "        review_sum += sum(sentence_tokens_values)  # Accumulate the sum for the review\n",
        "\n",
        "    avg_sentiment_word = review_sum / review_len\n",
        "\n",
        "    # Calculate the threshold based on the average review length\n",
        "    if avg_sentiment_word == 0:\n",
        "        # Apply a smoothing factor (0.1) to avoid division by zero\n",
        "        threshold = 8/(0.1 * average_len_review * review_len)\n",
        "    else:\n",
        "        threshold = 8/(avg_sentiment_word * average_len_review * review_len)\n",
        "\n",
        "    if review_sum > threshold:\n",
        "        token_results_3.append(1)\n",
        "    else:\n",
        "        token_results_3.append(0)\n",
        "\n",
        "\n",
        "token_accuracy = 0\n",
        "for x, y in zip(token_results_3, ground_results):\n",
        "  if x == y:\n",
        "    token_accuracy += 1\n",
        "\n",
        "accuracy_3 = token_accuracy/len(reviews)\n",
        "\n",
        "print(\"Accuracy: %0.2f\", accuracy_3)"
      ]
    },
    {
      "cell_type": "markdown",
      "metadata": {
        "id": "LibV4nR89BXb"
      },
      "source": [
        "# (2) Naive Bayes (9.5pts)"
      ]
    },
    {
      "cell_type": "markdown",
      "metadata": {
        "id": "fnF9adQnuwia"
      },
      "source": [
        "\n",
        "Your second task is to program a simple Machine Learning approach that operates\n",
        "on a simple Bag-of-Words (BoW) representation of the text data, as\n",
        "described by Pang et al. (2002). In this approach, the only features we\n",
        "will consider are the words in the text themselves, without bringing in\n",
        "external sources of information. The BoW model is a popular way of\n",
        "representing texts as vectors, making it\n",
        "easy to apply classical Machine Learning algorithms on NLP tasks.\n",
        "However, the BoW representation is also very crude, since it discards\n",
        "all information related to word order and grammatical structure in the\n",
        "original text—as the name suggests.\n",
        "\n",
        "## Writing your own classifier (4pts)\n",
        "\n",
        "Write your own code to implement the Naive Bayes (NB) classifier. As\n",
        "a reminder, the Naive Bayes classifier works according to the following\n",
        "equation:\n",
        "$$\\hat{c} = \\operatorname*{arg\\,max}_{c \\in C} P(c|\\bar{f}) = \\operatorname*{arg\\,max}_{c \\in C} P(c)\\prod^n_{i=1} P(f_i|c)$$\n",
        "where $C = \\{ \\text{POS}, \\text{NEG} \\}$ is the set of possible classes,\n",
        "$\\hat{c} \\in C$ is the most probable class, and $\\bar{f}$ is the feature\n",
        "vector. Remember that we use the log of these probabilities when making\n",
        "a prediction:\n",
        "$$\\hat{c} = \\operatorname*{arg\\,max}_{c \\in C} \\Big\\{\\log P(c) + \\sum^n_{i=1} \\log P(f_i|c)\\Big\\}$$\n",
        "\n",
        "You can find more details about Naive Bayes in [Jurafsky &\n",
        "Martin](https://web.stanford.edu/~jurafsky/slp3/). You can also look at\n",
        "this helpful\n",
        "[pseudo-code](https://nlp.stanford.edu/IR-book/html/htmledition/naive-bayes-text-classification-1.html).\n",
        "\n",
        "*Note: this section and the next aim to put you in a position to replicate\n",
        "    Pang et al.'s Naive Bayes results. However, your numerical results\n",
        "    will differ from theirs, as they used different data.*\n",
        "\n",
        "**You must write the Naive Bayes training and prediction code from\n",
        "scratch.** You will not be given credit for using off-the-shelf Machine\n",
        "Learning libraries.\n",
        "\n",
        "The data contains the text of the reviews, where each document consists\n",
        "of the sentences in the review, the sentiment of the review and an index\n",
        "(cv) that you will later use for cross-validation. The\n",
        "text has already been tokenised and POS-tagged for you. Your algorithm\n",
        "should read in the text, **lowercase it**, store the words and their\n",
        "frequencies in an appropriate data structure that allows for easy\n",
        "computation of the probabilities used in the Naive Bayes algorithm, and\n",
        "then make predictions for new instances.\n"
      ]
    },
    {
      "cell_type": "markdown",
      "metadata": {
        "id": "vEpyQSBSkb33"
      },
      "source": [
        "#### (Q2.1) Unseen words (1pt)\n",
        "The presence of words in the test dataset that\n",
        "have not been seen during training can cause probabilities in the Naive Bayes classifier to equal $0$.\n",
        "These can be words which are unseen in both positive and negative training reviews (case 1), but also words which are seen in reviews _of only one sentiment class_ in the training dataset (case 2). In both cases, **you should skip these words for both classes at test time**.  What would be the problem instead with skipping words only for one class in case 2?"
      ]
    },
    {
      "cell_type": "markdown",
      "metadata": {
        "id": "BanFiYYnoxDW"
      },
      "source": [
        "*Write your answer here.*"
      ]
    },
    {
      "cell_type": "markdown",
      "metadata": {
        "id": "gsZRhaI3WvzC"
      },
      "source": [
        "#### (Q2.2) Train your classifier on (positive and negative) reviews with cv-value 000-899, and test it on the remaining (positive and negative) reviews cv900–cv999.  Report results using classification accuracy as your evaluation metric. Your  features are the word vocabulary. The value of a feature is the count of that feature (word) in the document. (2pts)\n",
        "\n"
      ]
    },
    {
      "cell_type": "code",
      "execution_count": 109,
      "metadata": {
        "id": "Q_thMm9Pjnxt"
      },
      "outputs": [],
      "source": [
        "def train(reviews, smoothing):\n",
        "    # Initialize sets to store unique words in positive and negative reviews\n",
        "    voc_pos = set()\n",
        "    voc_neg = set()\n",
        "\n",
        "    # Initialize counters for positive and negative reviews\n",
        "    pos = 0\n",
        "    neg = 0\n",
        "\n",
        "    # Dictionaries to store word frequencies in positive and negative reviews\n",
        "    positive_word_count = {}\n",
        "    negative_word_count = {}\n",
        "\n",
        "    # Iterate through the training reviews\n",
        "    for review in reviews:\n",
        "        # Check if the review sentiment is positive\n",
        "        if review['sentiment'] == 'POS':\n",
        "            pos += 1  # Increment the positive review count\n",
        "            for sentence in review['content']:\n",
        "                for word, _ in sentence:\n",
        "                    # Add words to the positive vocabulary set and update their counts\n",
        "                    if word not in voc_pos:\n",
        "                        positive_word_count[word.lower()] = 1\n",
        "                        voc_pos.add(word.lower())\n",
        "                        #positive_word_count[word] = 1\n",
        "                    else:\n",
        "                        positive_word_count[word.lower()] += 1\n",
        "        else:\n",
        "            neg += 1  # Increment the negative review count\n",
        "            for sentence in review['content']:\n",
        "                for word, _ in sentence:\n",
        "                    # Add words to the negative vocabulary set and update their counts\n",
        "                    if word not in voc_neg:\n",
        "                        voc_neg.add(word.lower())\n",
        "                        negative_word_count[word.lower()] = 1\n",
        "                    else:\n",
        "                        negative_word_count[word.lower()] += 1\n",
        "\n",
        "    # Calculate prior probabilities for positive and negative reviews\n",
        "    prior_positive = pos / len(reviews)\n",
        "    prior_negative = neg / len(reviews)\n",
        "\n",
        "    # Create dictionaries to store probabilities for positive and negative words\n",
        "    prob_pos = {}\n",
        "    prob_neg = {}\n",
        "\n",
        "    # Calculate probabilities for positive words using Laplace smoothing\n",
        "    P = sum(positive_word_count.values())   # Total word count in positive reviews\n",
        "    for word in voc_pos:\n",
        "      if not smoothing:\n",
        "        prob_pos[word.lower()] = (positive_word_count[word.lower()]) / (P)\n",
        "      else:\n",
        "        prob_pos[word.lower()] = (positive_word_count[word.lower()] + 1) / (P + len(voc_pos))\n",
        "\n",
        "\n",
        "    # Calculate probabilities for negative words using Laplace smoothing\n",
        "    N = sum(negative_word_count.values())  # Total word count in negative reviews\n",
        "    for word in voc_neg:\n",
        "      if not smoothing:\n",
        "        prob_neg[word.lower()] = (negative_word_count[word.lower()]) / (N)\n",
        "      else:\n",
        "        prob_neg[word.lower()] = (negative_word_count[word.lower()] + 1) / (N + len(voc_neg))\n",
        "\n",
        "\n",
        "    return prior_positive, prior_negative, voc_pos, voc_neg, prob_pos, prob_neg\n",
        "\n",
        "def test(reviews, prior_positive, prior_negative ,voc_pos, voc_neg, prob_pos, prob_neg):\n",
        "    predictions = []  # Store class predictions for each review\n",
        "\n",
        "    for review in reviews:\n",
        "        score_pos = np.log(prior_positive)\n",
        "        score_neg = np.log(prior_negative)\n",
        "\n",
        "        for sentence in review['content']:\n",
        "            for token, _ in sentence:\n",
        "                if token.lower() in voc_pos:\n",
        "                    # Token found in training data, use its probability for the positive class\n",
        "                    score_pos += np.log(prob_pos[token.lower()])\n",
        "                if token.lower() in voc_neg:\n",
        "                    # Token found in training data, use its probability for the negative class\n",
        "                    score_neg += np.log(prob_neg[token.lower()])\n",
        "\n",
        "        # Compare the accumulated scores to make a prediction\n",
        "        if score_pos > score_neg:\n",
        "            predictions.append(1)\n",
        "        else:\n",
        "            predictions.append(0)\n",
        "\n",
        "    return predictions\n",
        "\n",
        "def accuracy(reviews, predictions):\n",
        "    ground_results = []\n",
        "    for review in reviews:\n",
        "        # Check the sentiment label of the review and convert it to binary (1 for 'POS', 0 for other sentiments)\n",
        "        if review['sentiment'] == 'POS':\n",
        "            ground_results.append(1)\n",
        "        else:\n",
        "            ground_results.append(0)\n",
        "    if len(ground_results) == len(predictions):\n",
        "        token_accuracy = 0\n",
        "        for x, y in zip(predictions, ground_results):\n",
        "            if x == y:\n",
        "                token_accuracy += 1\n",
        "\n",
        "        accuracy = token_accuracy/len(reviews)\n",
        "    else:\n",
        "        raise TypeError('Lists of different sizes for accuracy testing')\n",
        "\n",
        "    print(\"Accuracy:\", accuracy)\n",
        "\n",
        "    return accuracy"
      ]
    },
    {
      "cell_type": "code",
      "execution_count": 110,
      "metadata": {
        "id": "-yCiO9iZGUT5",
        "outputId": "3c185ac4-d1cc-423d-de53-538b032406f1",
        "colab": {
          "base_uri": "https://localhost:8080/"
        }
      },
      "outputs": [
        {
          "output_type": "stream",
          "name": "stdout",
          "text": [
            "Accuracy: 0.44\n"
          ]
        },
        {
          "output_type": "execute_result",
          "data": {
            "text/plain": [
              "0.44"
            ]
          },
          "metadata": {},
          "execution_count": 110
        }
      ],
      "source": [
        "train_reviews = reviews[:900] + reviews[1000:1900]\n",
        "test_reviews = reviews[900:1000] + reviews[1900:2000]\n",
        "\n",
        "prior_positive, prior_negative ,voc_pos, voc_neg, prob_pos, prob_neg = train(train_reviews, False)\n",
        "\n",
        "predictions = test(test_reviews, prior_positive, prior_negative ,voc_pos, voc_neg, prob_pos, prob_neg)\n",
        "\n",
        "accuracy(test_reviews, predictions)"
      ]
    },
    {
      "cell_type": "markdown",
      "metadata": {
        "id": "0INK-PBoM6CB"
      },
      "source": [
        "#### (Q2.3) Would you consider accuracy to also be a good way to evaluate your classifier in a situation where 90% of your data instances are of positive movie reviews? (1pt)\n",
        "\n",
        "Simulate this scenario by keeping the positive reviews\n",
        "data unchanged, but only using negative reviews cv000–cv089 for\n",
        "training, and cv900–cv909 for testing. Calculate the classification\n",
        "accuracy, and explain what changed."
      ]
    },
    {
      "cell_type": "markdown",
      "metadata": {
        "id": "oFbcsYlipBAw"
      },
      "source": [
        "No."
      ]
    },
    {
      "cell_type": "code",
      "execution_count": 111,
      "metadata": {
        "id": "COvPiIYWGUT5",
        "outputId": "d00bb83a-35af-4a24-b359-af65958b1ddc",
        "colab": {
          "base_uri": "https://localhost:8080/"
        }
      },
      "outputs": [
        {
          "output_type": "stream",
          "name": "stdout",
          "text": [
            "Accuracy: 0.08256880733944955\n"
          ]
        },
        {
          "output_type": "execute_result",
          "data": {
            "text/plain": [
              "0.08256880733944955"
            ]
          },
          "metadata": {},
          "execution_count": 111
        }
      ],
      "source": [
        "train_reviews = reviews[:89] + reviews[1000:1900]\n",
        "test_reviews = reviews[900:909] + reviews[1900:2000]\n",
        "# NB\n",
        "prior_positive, prior_negative ,voc_pos, voc_neg, prob_pos, prob_neg = train(train_reviews, False)\n",
        "\n",
        "predictions_NB = test(test_reviews, prior_positive, prior_negative ,voc_pos, voc_neg, prob_pos, prob_neg)\n",
        "\n",
        "accuracy(test_reviews, predictions_NB)"
      ]
    },
    {
      "cell_type": "markdown",
      "metadata": {
        "id": "6wJzcHX3WUDm"
      },
      "source": [
        "## Smoothing (1pt)\n",
        "\n",
        "As mentioned above, the presence of words in the test dataset that\n",
        "have not been seen during training can cause probabilities in the Naive\n",
        "Bayes classifier to be $0$, thus making that particular test instance\n",
        "undecidable. The standard way to mitigate this effect (as well as to\n",
        "give more clout to rare words) is to use smoothing, in which the\n",
        "probability fraction\n",
        "$\\frac{\\text{count}(w_i, c)}{\\sum\\limits_{w\\in V} \\text{count}(w, c)} for a word\n",
        "<!-- $w_i$ becomes\n",
        "$$\\frac{\\text{count}(w_i, c) + \\text{smoothing}(w_i)}{\\sum\\limits_{w\\in V} \\text{count}(w, c) + \\sum\\limits_{w \\in V} \\text{smoothing}(w)}$$"
      ]
    },
    {
      "cell_type": "markdown",
      "metadata": {
        "id": "PBNIcbwUWphC"
      },
      "source": [
        "#### (Q2.4) Implement Laplace feature smoothing (1pt)\n",
        "Implement Laplace smoothing, i.e., smoothing with a constant value ($smoothing(w) = \\kappa, \\forall w \\in V$), in your Naive\n",
        "Bayes classifier’s code, and report the accuracy.\n",
        "Use $\\kappa = 1$."
      ]
    },
    {
      "cell_type": "code",
      "execution_count": 112,
      "metadata": {
        "id": "hsBHpZz9GUUD",
        "outputId": "18a28688-94a1-4e39-bad7-39868bf1c72f",
        "colab": {
          "base_uri": "https://localhost:8080/"
        }
      },
      "outputs": [
        {
          "output_type": "stream",
          "name": "stdout",
          "text": [
            "Accuracy: 0.41\n"
          ]
        },
        {
          "output_type": "execute_result",
          "data": {
            "text/plain": [
              "0.41"
            ]
          },
          "metadata": {},
          "execution_count": 112
        }
      ],
      "source": [
        "train_reviews = reviews[:900] + reviews[1000:1900]\n",
        "test_reviews = reviews[900:1000] + reviews[1900:2000]\n",
        "\n",
        "prior_positive, prior_negative ,voc_pos, voc_neg, prob_pos, prob_neg = train(train_reviews,True)\n",
        "\n",
        "predictions = test(test_reviews, prior_positive, prior_negative ,voc_pos, voc_neg, prob_pos, prob_neg)\n",
        "\n",
        "accuracy(test_reviews, predictions)"
      ]
    },
    {
      "cell_type": "markdown",
      "metadata": {
        "id": "ZiGcgwba87D5"
      },
      "source": [
        "## Cross-Validation (1.5pts)\n",
        "\n",
        "A serious danger in using Machine Learning on small datasets, with many\n",
        "iterations of slightly different versions of the algorithms, is ending up with Type III errors, also called the “testing hypotheses\n",
        "suggested by the data” errors. This type of error occurs when we make\n",
        "repeated improvements to our classifiers by playing with features and\n",
        "their processing, but we don’t get a fresh, never-before seen test\n",
        "dataset every time. Thus, we risk developing a classifier that gets better\n",
        "and better on our data, but only gets worse at generalizing to new, unseen data. In other words, we risk developping a classifier that overfits.\n",
        "\n",
        "A simple method to guard against Type III errors is to use\n",
        "Cross-Validation. In **N-fold Cross-Validation**, we divide the data into N\n",
        "distinct chunks, or folds. Then, we repeat the experiment N times: each\n",
        "time holding out one of the folds for testing, training our classifier\n",
        "on the remaining N - 1 data folds, and reporting performance on the\n",
        "held-out fold. We can use different strategies for dividing the data:\n",
        "\n",
        "-   Consecutive splitting:\n",
        "  - cv000–cv099 = Split 1\n",
        "  - cv100–cv199 = Split 2\n",
        "  - etc.\n",
        "  \n",
        "-   Round-robin splitting (mod 10):\n",
        "  - cv000, cv010, cv020, … = Split 1\n",
        "  - cv001, cv011, cv021, … = Split 2\n",
        "  - etc.\n",
        "\n",
        "-   Random sampling/splitting\n",
        "  - Not used here (but you may choose to split this way in a non-educational situation)\n",
        "\n"
      ]
    },
    {
      "cell_type": "markdown",
      "metadata": {
        "id": "8OeLcbSauGtR"
      },
      "source": [
        "#### (Q2.5) Write the code to implement 10-fold cross-validation using round-robin splitting for your Naive Bayes classifier from Q2.4 and compute the 10 accuracies. Report the final performance, which is the average of the performances per fold. If all splits perform equally well, this is a good sign. (1pt)"
      ]
    },
    {
      "cell_type": "code",
      "execution_count": 113,
      "metadata": {
        "id": "B4-uTQkQGUUF",
        "outputId": "2c0396a0-76a8-457c-a1c4-3e08e718507a",
        "colab": {
          "base_uri": "https://localhost:8080/"
        }
      },
      "outputs": [
        {
          "output_type": "stream",
          "name": "stdout",
          "text": [
            "Accuracy: 0.44\n",
            "Accuracy: 0.44\n",
            "Accuracy: 0.44\n",
            "Accuracy: 0.425\n",
            "Accuracy: 0.465\n",
            "Accuracy: 0.425\n",
            "Accuracy: 0.455\n",
            "Accuracy: 0.48\n",
            "Accuracy: 0.43\n",
            "Accuracy: 0.47\n",
            "Accuracies: [0.44, 0.44, 0.44, 0.425, 0.465, 0.425, 0.455, 0.48, 0.43, 0.47]\n",
            "Accuracy: 0.035\n",
            "Accuracy: 0.035\n",
            "Accuracy: 0.05\n",
            "Accuracy: 0.05\n",
            "Accuracy: 0.015\n",
            "Accuracy: 0.025\n",
            "Accuracy: 0.035\n",
            "Accuracy: 0.03\n",
            "Accuracy: 0.05\n",
            "Accuracy: 0.08\n",
            "Accuracies: [0.035, 0.035, 0.05, 0.05, 0.015, 0.025, 0.035, 0.03, 0.05, 0.08]\n"
          ]
        }
      ],
      "source": [
        "#round-robin splitting\n",
        "def round_robin_split1(reviews, k, smoothing):\n",
        "  acc = []\n",
        "  for j in range(k):\n",
        "    data_test = []  # Initialize data_test for this fold\n",
        "    data_train = []  # Initialize data_train for this fold\n",
        "\n",
        "    for i in range(k):\n",
        "        if j == i:\n",
        "            data_test = reviews[i::k]  # Get the test data\n",
        "        else:\n",
        "          #que?\n",
        "            data_train += [d for idx, d in enumerate(reviews) if idx % k != i]  # Get the training data\n",
        "\n",
        "    prior_positive, prior_negative, voc_pos, voc_neg, prob_pos, prob_neg = train(data_train, smoothing)\n",
        "\n",
        "    predictions = test(data_test, prior_positive, prior_negative, voc_pos, voc_neg, prob_pos, prob_neg)\n",
        "\n",
        "    # Calculate accuracy for this fold\n",
        "    fold_accuracy = accuracy(data_test, predictions)\n",
        "    acc.append(fold_accuracy)\n",
        "\n",
        "  return acc\n",
        "\n",
        "\n",
        "def round_robin_split(reviews, k, smoothing):\n",
        "    # split the reviews in k folds\n",
        "    folds = []\n",
        "    for i in range(k):\n",
        "        folds.append(reviews[i::k])\n",
        "\n",
        "    accuracies = []\n",
        "\n",
        "    for i in range(k):\n",
        "        train_reviews = []\n",
        "        for j in range(k):\n",
        "            if j != i:\n",
        "                train_reviews += folds[j]\n",
        "        test_reviews = folds[i]\n",
        "\n",
        "        prior_positive, prior_negative ,voc_pos, voc_neg, prob_pos, prob_neg = train(train_reviews, smoothing)\n",
        "\n",
        "        predictions = test(test_reviews, prior_positive, prior_negative ,voc_pos, voc_neg, prob_pos, prob_neg)\n",
        "\n",
        "        accuracies.append(accuracy(test_reviews, predictions))\n",
        "\n",
        "    return accuracies\n",
        "\n",
        "\n",
        "accuracies = round_robin_split(reviews, 10, True)\n",
        "print(\"Accuracies:\", accuracies)\n",
        "acc = round_robin_split1(reviews, 10, True)\n",
        "print(\"Accuracies:\", acc)\n",
        "\n"
      ]
    },
    {
      "cell_type": "markdown",
      "metadata": {
        "id": "otdlsDXBNyOa"
      },
      "source": [
        "#### (Q2.6) Report the variance of the 10 accuracy scores. (0.5pt)\n",
        "\n",
        "**Please report all future results using 10-fold cross-validation now\n",
        "(unless told to use the held-out test set).** Note: you're not allowed to use a library for computing the variance."
      ]
    },
    {
      "cell_type": "code",
      "execution_count": 115,
      "metadata": {
        "id": "ZoBQm1KuNzNR"
      },
      "outputs": [],
      "source": [
        "# YOUR CODE HERE\n",
        "def variance(x):\n",
        "    m = sum(x)/len(x)\n",
        "    num = 0\n",
        "    for i in x:\n",
        "        num += (i - m)**2\n",
        "\n",
        "    var = num/len(x)\n",
        "\n",
        "    return var"
      ]
    },
    {
      "cell_type": "code",
      "execution_count": 116,
      "metadata": {
        "id": "CqeetQp-GUUF",
        "outputId": "d8a88e39-6e49-4e07-d897-56d9284d8560",
        "colab": {
          "base_uri": "https://localhost:8080/"
        }
      },
      "outputs": [
        {
          "output_type": "execute_result",
          "data": {
            "text/plain": [
              "0.00029225000000000003"
            ]
          },
          "metadata": {},
          "execution_count": 116
        }
      ],
      "source": [
        "variance(acc)"
      ]
    },
    {
      "cell_type": "markdown",
      "metadata": {
        "id": "s6A2zX9_BRKm"
      },
      "source": [
        "## Features, overfitting, and the curse of dimensionality\n",
        "\n",
        "In the Bag-of-Words model, ideally we would like each distinct word in\n",
        "the text to be mapped to its own dimension in the output vector\n",
        "representation. However, real world text is messy, and we need to decide\n",
        "on what we consider to be a word. For example, is “`word`\" different\n",
        "from “`Word`\", from “`word`”, or from “`words`\"? Too strict a\n",
        "definition, and the number of features explodes, while our algorithm\n",
        "fails to learn anything generalisable. Too lax, and we risk destroying\n",
        "our learning signal. In the following section, you will learn about\n",
        "confronting the feature sparsity and the overfitting problems as they\n",
        "occur in NLP classification tasks."
      ]
    },
    {
      "cell_type": "markdown",
      "metadata": {
        "id": "EKK8FNt8VtcZ"
      },
      "source": [
        "### Stemming (1.5pts)\n",
        "\n",
        "To make your algorithm more robust, use stemming and hash different inflections of a word to the same feature in the BoW vector space. Please use the [Porter stemming\n",
        "    algorithm](http://www.nltk.org/howto/stem.html) from NLTK.\n",
        "\n"
      ]
    },
    {
      "cell_type": "code",
      "execution_count": 117,
      "metadata": {
        "id": "NxtCul1IrBi_"
      },
      "outputs": [],
      "source": [
        "def porter_stemmer(tokens):\n",
        "    stemmer = PorterStemmer()\n",
        "    stemmed_tokens = [stemmer.stem(token) for token in tokens]\n",
        "    return stemmed_tokens\n"
      ]
    },
    {
      "cell_type": "markdown",
      "metadata": {
        "id": "6SrJ1BeLXTnk"
      },
      "source": [
        "#### (Q2.7): How does the performance of your classifier change when you use stemming on your training and test datasets? (1pt)\n",
        "Use cross-validation to evaluate the classifier.\n"
      ]
    },
    {
      "cell_type": "code",
      "execution_count": 120,
      "metadata": {
        "id": "gYqKBOiIrInT",
        "colab": {
          "base_uri": "https://localhost:8080/"
        },
        "outputId": "7cf70657-3192-45f7-f64b-15353156fec6"
      },
      "outputs": [
        {
          "output_type": "stream",
          "name": "stdout",
          "text": [
            "two/CD teen/JJ coupl/NNS go/VBP to/TO a/DT church/NN parti/NN ,/, drink/NN and/CC then/RB drive/NN ./.\n",
            "two/CD teen/JJ coupl/NNS go/VBP to/TO a/DT church/NN parti/NN ,/, drink/NN and/CC then/RB drive/NN ./.\n",
            "Accuracy: 0.52\n",
            "Accuracy: 0.45\n",
            "Accuracy: 0.47\n",
            "Accuracy: 0.495\n",
            "Accuracy: 0.385\n",
            "Accuracy: 0.46\n",
            "Accuracy: 0.495\n",
            "Accuracy: 0.51\n",
            "Accuracy: 0.495\n",
            "Accuracy: 0.515\n",
            "Accuracies: [0.52, 0.45, 0.47, 0.495, 0.385, 0.46, 0.495, 0.51, 0.495, 0.515]\n"
          ]
        }
      ],
      "source": [
        "print_sentence_with_pos(reviews[0][\"content\"][0])\n",
        "\n",
        "# apply the porter stemmer to the reviews, and store the results in a new list\n",
        "stemmed_reviews = reviews.copy()\n",
        "for review in stemmed_reviews:\n",
        "    for sentence in review[\"content\"]:\n",
        "        for i, (token, pos_tag) in enumerate(sentence):\n",
        "            new_token = porter_stemmer([token])[0]\n",
        "            sentence[i] = (new_token, pos_tag)\n",
        "\n",
        "# print the first sentence of the first review\n",
        "print_sentence_with_pos(stemmed_reviews[0][\"content\"][0])\n",
        "\n",
        "\n",
        "# print_sentence_with_pos(new_reviews[0][\"content\"][0])\n",
        "\n",
        "# now we use round robin splitting with the porter stemmer\n",
        "accuracies = round_robin_split(stemmed_reviews, 10, True)\n",
        "print(\"Accuracies:\", accuracies)\n",
        "# accuracies = round_robin_split1(reviews, 10, True)\n",
        "# print(\"Accuracies:\", accuracies)"
      ]
    },
    {
      "cell_type": "code",
      "source": [
        "print(new_reviews)\n",
        "print()\n",
        "print(reviews[0])"
      ],
      "metadata": {
        "colab": {
          "base_uri": "https://localhost:8080/"
        },
        "id": "P_28EhswfFt7",
        "outputId": "9b1a1c1d-b16b-4988-f7ad-e652ac32ed7a"
      },
      "execution_count": 87,
      "outputs": [
        {
          "output_type": "stream",
          "name": "stdout",
          "text": [
            "[[[('two', 'CD'), ('teen', 'JJ'), ('coupl', 'NNS'), ('go', 'VBP'), ('to', 'TO'), ('a', 'DT'), ('church', 'NN'), ('parti', 'NN'), (',', ','), ('drink', 'NN'), ('and', 'CC'), ('then', 'RB'), ('drive', 'NN'), ('.', '.')], [('they', 'PRP'), ('get', 'VBP'), ('into', 'IN'), ('an', 'DT'), ('accid', 'NN'), ('.', '.')], [('one', 'CD'), ('of', 'IN'), ('the', 'DT'), ('guy', 'NNS'), ('die', 'VBZ'), (',', ','), ('but', 'CC'), ('hi', 'PRP$'), ('girlfriend', 'NN'), ('continu', 'VBZ'), ('to', 'TO'), ('see', 'VB'), ('him', 'PRP'), ('in', 'IN'), ('her', 'PRP$'), ('life', 'NN'), (',', ','), ('and', 'CC'), ('ha', 'VBZ'), ('nightmar', 'NNS'), ('.', '.')], [('what', 'WP'), (\"'s\", 'VBZ'), ('the', 'DT'), ('deal', 'NN'), ('?', '.')], [('watch', 'VB'), ('the', 'DT'), ('movi', 'NN'), ('and', 'CC'), ('``', '``'), ('sorta', 'NN'), (\"''\", \"''\"), ('find', 'VB'), ('out', 'RP'), ('...', ':'), ('critiqu', 'NNP'), (':', ':'), ('a', 'NNP'), ('mind-fuck', 'JJ'), ('movi', 'NN'), ('for', 'IN'), ('the', 'DT'), ('teen', 'NN'), ('gener', 'NN'), ('that', 'WDT'), ('touch', 'NNS'), ('on', 'IN'), ('a', 'DT'), ('veri', 'RB'), ('cool', 'JJ'), ('idea', 'NN'), (',', ','), ('but', 'CC'), ('present', 'VBZ'), ('it', 'PRP'), ('in', 'IN'), ('a', 'DT'), ('veri', 'RB'), ('bad', 'JJ'), ('packag', 'NN'), ('.', '.')], [('which', 'WDT'), ('is', 'VBZ'), ('what', 'WP'), ('make', 'VBZ'), ('thi', 'DT'), ('review', 'NN'), ('an', 'DT'), ('even', 'RB'), ('harder', 'RBR'), ('one', 'CD'), ('to', 'TO'), ('write', 'VB'), (',', ','), ('sinc', 'IN'), ('i', 'PRP'), ('gener', 'RB'), ('applaud', 'VBP'), ('film', 'NNS'), ('which', 'WDT'), ('attempt', 'VBP'), ('to', 'TO'), ('break', 'VB'), ('the', 'DT'), ('mold', 'NN'), (',', ','), ('mess', 'NN'), ('with', 'IN'), ('your', 'PRP$'), ('head', 'NN'), ('and', 'CC'), ('such', 'JJ'), ('-lrb-', '-LRB-'), ('lost', 'JJ'), ('highway', 'NNP'), ('&', 'CC'), ('memento', 'NNP'), ('-rrb-', '-RRB-'), (',', ','), ('but', 'CC'), ('there', 'EX'), ('are', 'VBP'), ('good', 'JJ'), ('and', 'CC'), ('bad', 'JJ'), ('way', 'NNS'), ('of', 'IN'), ('make', 'VBG'), ('all', 'DT'), ('type', 'NNS'), ('of', 'IN'), ('film', 'NNS'), (',', ','), ('and', 'CC'), ('these', 'DT'), ('folk', 'NNS'), ('just', 'RB'), ('did', 'VBD'), (\"n't\", 'RB'), ('snag', 'NN'), ('thi', 'DT'), ('one', 'CD'), ('correctli', 'RB'), ('.', '.')], [('they', 'PRP'), ('seem', 'VBP'), ('to', 'TO'), ('have', 'VB'), ('taken', 'VBN'), ('thi', 'DT'), ('pretti', 'RB'), ('neat', 'JJ'), ('concept', 'NN'), (',', ','), ('but', 'CC'), ('execut', 'VBD'), ('it', 'PRP'), ('terribl', 'RB'), ('.', '.')], [('so', 'RB'), ('what', 'WP'), ('are', 'VBP'), ('the', 'DT'), ('problem', 'NNS'), ('with', 'IN'), ('the', 'DT'), ('movi', 'NN'), ('?', '.')], [('well', 'RB'), (',', ','), ('it', 'PRP$'), ('main', 'JJ'), ('problem', 'NN'), ('is', 'VBZ'), ('that', 'IN'), ('it', 'PRP'), (\"'s\", 'VBZ'), ('simpli', 'RB'), ('too', 'RB'), ('jumbl', 'JJ'), ('.', '.')], [('it', 'PRP'), ('start', 'VBZ'), ('off', 'RP'), ('``', '``'), ('normal', 'JJ'), (\"''\", \"''\"), ('but', 'CC'), ('then', 'RB'), ('downshift', 'VBZ'), ('into', 'IN'), ('thi', 'DT'), ('``', '``'), ('fantasi', 'NN'), (\"''\", \"''\"), ('world', 'NN'), ('in', 'IN'), ('which', 'WDT'), ('you', 'PRP'), (',', ','), ('as', 'IN'), ('an', 'DT'), ('audienc', 'NN'), ('member', 'NN'), (',', ','), ('have', 'VBP'), ('no', 'DT'), ('idea', 'NN'), ('what', 'WP'), (\"'s\", 'VBZ'), ('go', 'VBG'), ('on', 'RP'), ('.', '.')], [('there', 'EX'), ('are', 'VBP'), ('dream', 'NNS'), (',', ','), ('there', 'EX'), ('are', 'VBP'), ('charact', 'NNS'), ('come', 'VBG'), ('back', 'RB'), ('from', 'IN'), ('the', 'DT'), ('dead', 'JJ'), (',', ','), ('there', 'EX'), ('are', 'VBP'), ('other', 'NNS'), ('who', 'WP'), ('look', 'VBP'), ('like', 'IN'), ('the', 'DT'), ('dead', 'JJ'), (',', ','), ('there', 'EX'), ('are', 'VBP'), ('strang', 'JJ'), ('apparit', 'NNS'), (',', ','), ('there', 'EX'), ('are', 'VBP'), ('disappear', 'NNS'), (',', ','), ('there', 'EX'), ('are', 'VBP'), ('a', 'DT'), ('looooot', 'NN'), ('of', 'IN'), ('chase', 'NN'), ('scene', 'NNS'), (',', ','), ('there', 'EX'), ('are', 'VBP'), ('ton', 'NNS'), ('of', 'IN'), ('weird', 'JJ'), ('thing', 'NNS'), ('that', 'WDT'), ('happen', 'VBP'), (',', ','), ('and', 'CC'), ('most', 'JJS'), ('of', 'IN'), ('it', 'PRP'), ('is', 'VBZ'), ('simpli', 'RB'), ('not', 'RB'), ('explain', 'VBN'), ('.', '.')], [('now', 'RB'), ('i', 'PRP'), ('person', 'RB'), ('do', 'VBP'), (\"n't\", 'RB'), ('mind', 'VB'), ('tri', 'VBG'), ('to', 'TO'), ('unravel', 'VB'), ('a', 'DT'), ('film', 'NN'), ('everi', 'DT'), ('now', 'RB'), ('and', 'CC'), ('then', 'RB'), (',', ','), ('but', 'CC'), ('when', 'WRB'), ('all', 'DT'), ('it', 'PRP'), ('doe', 'VBZ'), ('is', 'VBZ'), ('give', 'VB'), ('me', 'PRP'), ('the', 'DT'), ('same', 'JJ'), ('clue', 'NN'), ('over', 'IN'), ('and', 'CC'), ('over', 'IN'), ('again', 'RB'), (',', ','), ('i', 'PRP'), ('get', 'VBP'), ('kind', 'NN'), ('of', 'IN'), ('fed', 'VBN'), ('up', 'RP'), ('after', 'IN'), ('a', 'DT'), ('while', 'NN'), (',', ','), ('which', 'WDT'), ('is', 'VBZ'), ('thi', 'DT'), ('film', 'NN'), (\"'s\", 'POS'), ('biggest', 'JJS'), ('problem', 'NN'), ('.', '.')], [('it', 'PRP'), (\"'s\", 'VBZ'), ('obvious', 'RB'), ('got', 'VBN'), ('thi', 'DT'), ('big', 'JJ'), ('secret', 'NN'), ('to', 'TO'), ('hide', 'VB'), (',', ','), ('but', 'CC'), ('it', 'PRP'), ('seem', 'VBZ'), ('to', 'TO'), ('want', 'VB'), ('to', 'TO'), ('hide', 'VB'), ('it', 'PRP'), ('complet', 'RB'), ('until', 'IN'), ('it', 'PRP$'), ('final', 'JJ'), ('five', 'CD'), ('minut', 'NNS'), ('.', '.')], [('and', 'CC'), ('do', 'VBP'), ('they', 'PRP'), ('make', 'VBP'), ('thing', 'NNS'), ('entertain', 'JJ'), (',', ','), ('thrill', 'JJ'), ('or', 'CC'), ('even', 'RB'), ('engag', 'JJ'), (',', ','), ('in', 'IN'), ('the', 'DT'), ('meantim', 'NN'), ('?', '.')], [('not', 'RB'), ('realli', 'RB'), ('.', '.')], [('the', 'DT'), ('sad', 'JJ'), ('part', 'NN'), ('is', 'VBZ'), ('that', 'IN'), ('the', 'DT'), ('arrow', 'NNP'), ('and', 'CC'), ('i', 'PRP'), ('both', 'DT'), ('dig', 'NN'), ('on', 'IN'), ('flick', 'NNS'), ('like', 'IN'), ('thi', 'DT'), (',', ','), ('so', 'IN'), ('we', 'PRP'), ('actual', 'RB'), ('figur', 'VBD'), ('most', 'JJS'), ('of', 'IN'), ('it', 'PRP'), ('out', 'RP'), ('by', 'IN'), ('the', 'DT'), ('half-way', 'NN'), ('point', 'NN'), (',', ','), ('so', 'RB'), ('all', 'DT'), ('of', 'IN'), ('the', 'DT'), ('strang', 'NN'), ('after', 'IN'), ('that', 'DT'), ('did', 'VBD'), ('start', 'VB'), ('to', 'TO'), ('make', 'VB'), ('a', 'DT'), ('littl', 'JJ'), ('bit', 'NN'), ('of', 'IN'), ('sens', 'NN'), (',', ','), ('but', 'CC'), ('it', 'PRP'), ('still', 'RB'), ('did', 'VBD'), (\"n't\", 'RB'), ('the', 'DT'), ('make', 'VB'), ('the', 'DT'), ('film', 'NN'), ('all', 'DT'), ('that', 'IN'), ('more', 'JJR'), ('entertain', 'JJ'), ('.', '.')], [('i', 'PRP'), ('guess', 'VBP'), ('the', 'DT'), ('bottom', 'JJ'), ('line', 'NN'), ('with', 'IN'), ('movi', 'NNS'), ('like', 'IN'), ('thi', 'DT'), ('is', 'VBZ'), ('that', 'IN'), ('you', 'PRP'), ('should', 'MD'), ('alway', 'RB'), ('make', 'VB'), ('sure', 'JJ'), ('that', 'IN'), ('the', 'DT'), ('audienc', 'NN'), ('is', 'VBZ'), ('``', '``'), ('into', 'IN'), ('it', 'PRP'), (\"''\", \"''\"), ('even', 'RB'), ('befor', 'IN'), ('they', 'PRP'), ('are', 'VBP'), ('given', 'VBN'), ('the', 'DT'), ('secret', 'JJ'), ('password', 'NN'), ('to', 'TO'), ('enter', 'VB'), ('your', 'PRP$'), ('world', 'NN'), ('of', 'IN'), ('understand', 'NN'), ('.', '.')], [('i', 'PRP'), ('mean', 'VBP'), (',', ','), ('show', 'VBG'), ('melissa', 'NNP'), ('sagemil', 'NNP'), ('run', 'VBG'), ('away', 'RB'), ('from', 'IN'), ('vision', 'NNS'), ('for', 'IN'), ('about', 'RB'), ('20', 'CD'), ('minut', 'NNS'), ('throughout', 'IN'), ('the', 'DT'), ('movi', 'NN'), ('is', 'VBZ'), ('just', 'RB'), ('plain', 'JJ'), ('lazi', 'JJ'), ('!!', 'NN')], [('okay', 'UH'), (',', ','), ('we', 'PRP'), ('get', 'VBP'), ('it', 'PRP'), ('...', ':'), ('there', 'EX'), ('are', 'VBP'), ('peopl', 'NNS'), ('chase', 'VBG'), ('her', 'PRP'), ('and', 'CC'), ('we', 'PRP'), ('do', 'VBP'), (\"n't\", 'RB'), ('know', 'VB'), ('who', 'WP'), ('they', 'PRP'), ('are', 'VBP'), ('.', '.')], [('do', 'VB'), ('we', 'PRP'), ('realli', 'RB'), ('need', 'VBP'), ('to', 'TO'), ('see', 'VB'), ('it', 'PRP'), ('over', 'IN'), ('and', 'CC'), ('over', 'IN'), ('again', 'RB'), ('?', '.')], [('how', 'WRB'), ('about', 'RB'), ('give', 'VBG'), ('us', 'PRP'), ('differ', 'JJ'), ('scene', 'NNS'), ('offer', 'VBG'), ('further', 'JJ'), ('insight', 'NN'), ('into', 'IN'), ('all', 'DT'), ('of', 'IN'), ('the', 'DT'), ('strang', 'NN'), ('go', 'VBG'), ('down', 'RB'), ('in', 'IN'), ('the', 'DT'), ('movi', 'NN'), ('?', '.')], [('appar', 'RB'), (',', ','), ('the', 'DT'), ('studio', 'NN'), ('took', 'VBD'), ('thi', 'DT'), ('film', 'NN'), ('away', 'RB'), ('from', 'IN'), ('it', 'PRP$'), ('director', 'NN'), ('and', 'CC'), ('chop', 'VBD'), ('it', 'PRP'), ('up', 'RP'), ('themselv', 'PRP'), (',', ','), ('and', 'CC'), ('it', 'PRP'), ('show', 'VBZ'), ('.', '.')], [('there', 'EX'), ('might', 'MD'), (\"'ve\", 'VB'), ('been', 'VBN'), ('a', 'DT'), ('pretti', 'RB'), ('decent', 'JJ'), ('teen', 'NN'), ('mind-fuck', 'NN'), ('movi', 'NN'), ('in', 'IN'), ('here', 'RB'), ('somewher', 'RB'), (',', ','), ('but', 'CC'), ('i', 'PRP'), ('guess', 'VBP'), ('``', '``'), ('the', 'DT'), ('suit', 'NNS'), (\"''\", \"''\"), ('decid', 'VBD'), ('that', 'IN'), ('turn', 'VBG'), ('it', 'PRP'), ('into', 'IN'), ('a', 'DT'), ('music', 'NN'), ('video', 'NN'), ('with', 'IN'), ('littl', 'JJ'), ('edg', 'NN'), (',', ','), ('would', 'MD'), ('make', 'VB'), ('more', 'JJR'), ('sens', 'NN'), ('.', '.')], [('the', 'DT'), ('actor', 'NNS'), ('are', 'VBP'), ('pretti', 'RB'), ('good', 'JJ'), ('for', 'IN'), ('the', 'DT'), ('most', 'JJS'), ('part', 'NN'), (',', ','), ('although', 'IN'), ('we', 'NNP'), ('bentley', 'NNP'), ('just', 'RB'), ('seem', 'VBD'), ('to', 'TO'), ('be', 'VB'), ('play', 'VBG'), ('the', 'DT'), ('exact', 'JJ'), ('same', 'JJ'), ('charact', 'NN'), ('that', 'IN'), ('he', 'PRP'), ('did', 'VBD'), ('in', 'IN'), ('american', 'NNP'), ('beauti', 'NNP'), (',', ','), ('onli', 'RB'), ('in', 'IN'), ('a', 'DT'), ('new', 'JJ'), ('neighborhood', 'NN'), ('.', '.')], [('but', 'CC'), ('my', 'PRP$'), ('biggest', 'JJS'), ('kudo', 'NNS'), ('go', 'VBP'), ('out', 'RP'), ('to', 'TO'), ('sagemil', 'NNP'), (',', ','), ('who', 'WP'), ('hold', 'VBZ'), ('her', 'PRP$'), ('own', 'JJ'), ('throughout', 'IN'), ('the', 'DT'), ('entir', 'JJ'), ('film', 'NN'), (',', ','), ('and', 'CC'), ('actual', 'RB'), ('ha', 'VBZ'), ('you', 'PRP'), ('feel', 'VBG'), ('her', 'PRP$'), ('charact', 'NN'), (\"'s\", 'POS'), ('unravel', 'NN'), ('.', '.')], [('overal', 'RB'), (',', ','), ('the', 'DT'), ('film', 'NN'), ('doe', 'VBZ'), (\"n't\", 'RB'), ('stick', 'VB'), ('becaus', 'IN'), ('it', 'PRP'), ('doe', 'VBZ'), (\"n't\", 'RB'), ('entertain', 'VB'), (',', ','), ('it', 'PRP'), (\"'s\", 'VBZ'), ('confus', 'JJ'), (',', ','), ('it', 'PRP'), ('rare', 'RB'), ('excit', 'VBZ'), ('and', 'CC'), ('it', 'PRP'), ('feel', 'VBZ'), ('pretti', 'RB'), ('redund', 'JJ'), ('for', 'IN'), ('most', 'JJS'), ('of', 'IN'), ('it', 'PRP$'), ('runtim', 'NN'), (',', ','), ('despit', 'IN'), ('a', 'DT'), ('pretti', 'RB'), ('cool', 'JJ'), ('end', 'VBG'), ('and', 'CC'), ('explan', 'NN'), ('to', 'TO'), ('all', 'DT'), ('of', 'IN'), ('the', 'DT'), ('crazi', 'NN'), ('that', 'WDT'), ('came', 'VBD'), ('befor', 'IN'), ('it', 'PRP'), ('.', '.')], [('oh', 'UH'), (',', ','), ('and', 'CC'), ('by', 'IN'), ('the', 'DT'), ('way', 'NN'), (',', ','), ('thi', 'DT'), ('is', 'VBZ'), ('not', 'RB'), ('a', 'DT'), ('horror', 'NN'), ('or', 'CC'), ('teen', 'JJ'), ('slasher', 'NN'), ('flick', 'NN'), ('...', ':'), ('it', 'PRP'), (\"'s\", 'VBZ'), ('just', 'RB'), ('packag', 'VBN'), ('to', 'TO'), ('look', 'VB'), ('that', 'DT'), ('way', 'NN'), ('becaus', 'IN'), ('someon', 'NN'), ('is', 'VBZ'), ('appar', 'RB'), ('assum', 'VBG'), ('that', 'IN'), ('the', 'DT'), ('genr', 'NN'), ('is', 'VBZ'), ('still', 'RB'), ('hot', 'JJ'), ('with', 'IN'), ('the', 'DT'), ('kid', 'NNS'), ('.', '.')], [('it', 'PRP'), ('also', 'RB'), ('wrap', 'VBD'), ('product', 'NN'), ('two', 'CD'), ('year', 'NNS'), ('ago', 'RB'), ('and', 'CC'), ('ha', 'VBZ'), ('been', 'VBN'), ('sit', 'VBG'), ('on', 'IN'), ('the', 'DT'), ('shelv', 'NNS'), ('ever', 'RB'), ('sinc', 'IN'), ('.', '.')], [('whatev', 'WDT'), ('...', ':'), ('skip', 'VB'), ('it', 'PRP'), ('!', '.')]], [[('damn', 'JJ'), ('that', 'IN'), ('y2k', 'CD'), ('bug', 'NN'), ('.', '.')], [('it', 'PRP'), (\"'s\", 'VBZ'), ('got', 'VBD'), ('a', 'DT'), ('head', 'NN'), ('start', 'NN'), ('in', 'IN'), ('thi', 'DT'), ('movi', 'NN'), ('star', 'VBG'), ('jami', 'NNP'), ('lee', 'NNP'), ('curti', 'NNP'), ('and', 'CC'), ('anoth', 'DT'), ('baldwin', 'NNP'), ('brother', 'NN'), ('-lrb-', '-LRB-'), ('william', 'NNP'), ('thi', 'DT'), ('time', 'NN'), ('-rrb-', '-RRB-'), ('in', 'IN'), ('a', 'DT'), ('stori', 'NN'), ('regard', 'VBG'), ('a', 'DT'), ('crew', 'NN'), ('of', 'IN'), ('a', 'DT'), ('tugboat', 'NN'), ('that', 'WDT'), ('come', 'VBZ'), ('across', 'IN'), ('a', 'DT'), ('desert', 'VBN'), ('russian', 'JJ'), ('tech', 'NN'), ('ship', 'NN'), ('that', 'WDT'), ('ha', 'VBZ'), ('a', 'DT'), ('strang', 'NN'), ('to', 'TO'), ('it', 'PRP'), ('when', 'WRB'), ('they', 'PRP'), ('kick', 'VBP'), ('the', 'DT'), ('power', 'NN'), ('back', 'RB'), ('on', 'IN'), ('.', '.')], [('littl', 'RB'), ('do', 'VBP'), ('they', 'PRP'), ('know', 'VB'), ('the', 'DT'), ('power', 'NN'), ('within', 'IN'), ('...', ':'), ('go', 'VBG'), ('for', 'IN'), ('the', 'DT'), ('gore', 'VB'), ('and', 'CC'), ('bring', 'VBG'), ('on', 'IN'), ('a', 'DT'), ('few', 'JJ'), ('action', 'NN'), ('sequenc', 'NNS'), ('here', 'RB'), ('and', 'CC'), ('there', 'RB'), (',', ','), ('viru', 'NN'), ('still', 'RB'), ('feel', 'VBZ'), ('veri', 'RB'), ('empti', 'JJ'), (',', ','), ('like', 'IN'), ('a', 'DT'), ('movi', 'NN'), ('go', 'VBG'), ('for', 'IN'), ('all', 'DT'), ('flash', 'NN'), ('and', 'CC'), ('no', 'DT'), ('substanc', 'NN'), ('.', '.')], [('we', 'PRP'), ('do', 'VBP'), (\"n't\", 'RB'), ('know', 'VB'), ('whi', 'WRB'), ('the', 'DT'), ('crew', 'NN'), ('wa', 'VBD'), ('realli', 'RB'), ('out', 'RB'), ('in', 'IN'), ('the', 'DT'), ('middl', 'NN'), ('of', 'IN'), ('nowher', 'RB'), (',', ','), ('we', 'PRP'), ('do', 'VBP'), (\"n't\", 'RB'), ('know', 'VB'), ('the', 'DT'), ('origin', 'NN'), ('of', 'IN'), ('what', 'WP'), ('took', 'VBD'), ('over', 'RP'), ('the', 'DT'), ('ship', 'NN'), ('-lrb-', '-LRB-'), ('just', 'RB'), ('that', 'IN'), ('a', 'DT'), ('big', 'JJ'), ('pink', 'JJ'), ('flashi', 'JJ'), ('thing', 'NN'), ('hit', 'VBD'), ('the', 'DT'), ('mir', 'NN'), ('-rrb-', '-RRB-'), (',', ','), ('and', 'CC'), (',', ','), ('of', 'IN'), ('cours', 'NN'), (',', ','), ('we', 'PRP'), ('do', 'VBP'), (\"n't\", 'RB'), ('know', 'VB'), ('whi', 'WRB'), ('donald', 'NNP'), ('sutherland', 'NNP'), ('is', 'VBZ'), ('stumbl', 'VBG'), ('around', 'RP'), ('drunkenli', 'RB'), ('throughout', 'IN'), ('.', '.')], [('here', 'RB'), (',', ','), ('it', 'PRP'), (\"'s\", 'VBZ'), ('just', 'RB'), ('``', '``'), ('hey', 'RB'), (',', ','), ('let', 'VB'), (\"'s\", 'POS'), ('chase', 'VB'), ('these', 'DT'), ('peopl', 'NNS'), ('around', 'IN'), ('with', 'IN'), ('some', 'DT'), ('robot', 'NNS'), (\"''\", \"''\"), ('.', '.')], [('the', 'DT'), ('act', 'NN'), ('is', 'VBZ'), ('below', 'IN'), ('averag', 'NN'), (',', ','), ('even', 'RB'), ('from', 'IN'), ('the', 'DT'), ('like', 'NN'), ('of', 'IN'), ('curti', 'NNP'), ('.', '.')], [('you', 'PRP'), (\"'re\", 'VBP'), ('more', 'RBR'), ('like', 'JJ'), ('to', 'TO'), ('get', 'VB'), ('a', 'DT'), ('kick', 'NN'), ('out', 'IN'), ('of', 'IN'), ('her', 'PRP$'), ('work', 'NN'), ('in', 'IN'), ('halloween', 'NNP'), ('h20', 'NN'), ('.', '.')], [('sutherland', 'NNP'), ('is', 'VBZ'), ('wast', 'VBN'), ('and', 'CC'), ('baldwin', 'NNP'), (',', ','), ('well', 'RB'), (',', ','), ('he', 'PRP'), (\"'s\", 'VBZ'), ('act', 'VBG'), ('like', 'IN'), ('a', 'DT'), ('baldwin', 'NNP'), (',', ','), ('of', 'IN'), ('cours', 'NN'), ('.', '.')], [('the', 'DT'), ('real', 'JJ'), ('star', 'NN'), ('here', 'RB'), ('are', 'VBP'), ('stan', 'NNP'), ('winston', 'NNP'), (\"'s\", 'POS'), ('robot', 'NN'), ('design', 'NN'), (',', ','), ('some', 'DT'), ('schnazzi', 'NN'), ('cgi', 'NN'), (',', ','), ('and', 'CC'), ('the', 'DT'), ('occasion', 'JJ'), ('good', 'JJ'), ('gore', 'VBP'), ('shot', 'NN'), (',', ','), ('like', 'IN'), ('pick', 'VBG'), ('into', 'IN'), ('someon', 'NN'), (\"'s\", 'POS'), ('brain', 'NN'), ('.', '.')], [('so', 'RB'), (',', ','), ('if', 'IN'), ('robot', 'NNS'), ('and', 'CC'), ('bodi', 'NN'), ('part', 'NNS'), ('realli', 'RB'), ('turn', 'VB'), ('you', 'PRP'), ('on', 'IN'), (',', ','), ('here', 'RB'), (\"'s\", 'POS'), ('your', 'PRP$'), ('movi', 'NN'), ('.', '.')], [('otherwis', 'RB'), (',', ','), ('it', 'PRP'), (\"'s\", 'VBZ'), ('pretti', 'RB'), ('much', 'RB'), ('a', 'DT'), ('sunken', 'JJ'), ('ship', 'NN'), ('of', 'IN'), ('a', 'DT'), ('movi', 'NN'), ('.', '.')]]]\n",
            "\n",
            "{'cv': 0, 'sentiment': 'NEG', 'content': [[['Two', 'CD'], ['teen', 'JJ'], ['couples', 'NNS'], ['go', 'VBP'], ['to', 'TO'], ['a', 'DT'], ['church', 'NN'], ['party', 'NN'], [',', ','], ['drink', 'NN'], ['and', 'CC'], ['then', 'RB'], ['drive', 'NN'], ['.', '.']], [['They', 'PRP'], ['get', 'VBP'], ['into', 'IN'], ['an', 'DT'], ['accident', 'NN'], ['.', '.']], [['One', 'CD'], ['of', 'IN'], ['the', 'DT'], ['guys', 'NNS'], ['dies', 'VBZ'], [',', ','], ['but', 'CC'], ['his', 'PRP$'], ['girlfriend', 'NN'], ['continues', 'VBZ'], ['to', 'TO'], ['see', 'VB'], ['him', 'PRP'], ['in', 'IN'], ['her', 'PRP$'], ['life', 'NN'], [',', ','], ['and', 'CC'], ['has', 'VBZ'], ['nightmares', 'NNS'], ['.', '.']], [['What', 'WP'], [\"'s\", 'VBZ'], ['the', 'DT'], ['deal', 'NN'], ['?', '.']], [['Watch', 'VB'], ['the', 'DT'], ['movie', 'NN'], ['and', 'CC'], ['``', '``'], ['sorta', 'NN'], [\"''\", \"''\"], ['find', 'VB'], ['out', 'RP'], ['...', ':'], ['CRITIQUE', 'NNP'], [':', ':'], ['A', 'NNP'], ['mind-fuck', 'JJ'], ['movie', 'NN'], ['for', 'IN'], ['the', 'DT'], ['teen', 'NN'], ['generation', 'NN'], ['that', 'WDT'], ['touches', 'NNS'], ['on', 'IN'], ['a', 'DT'], ['very', 'RB'], ['cool', 'JJ'], ['idea', 'NN'], [',', ','], ['but', 'CC'], ['presents', 'VBZ'], ['it', 'PRP'], ['in', 'IN'], ['a', 'DT'], ['very', 'RB'], ['bad', 'JJ'], ['package', 'NN'], ['.', '.']], [['Which', 'WDT'], ['is', 'VBZ'], ['what', 'WP'], ['makes', 'VBZ'], ['this', 'DT'], ['review', 'NN'], ['an', 'DT'], ['even', 'RB'], ['harder', 'RBR'], ['one', 'CD'], ['to', 'TO'], ['write', 'VB'], [',', ','], ['since', 'IN'], ['I', 'PRP'], ['generally', 'RB'], ['applaud', 'VBP'], ['films', 'NNS'], ['which', 'WDT'], ['attempt', 'VBP'], ['to', 'TO'], ['break', 'VB'], ['the', 'DT'], ['mold', 'NN'], [',', ','], ['mess', 'NN'], ['with', 'IN'], ['your', 'PRP$'], ['head', 'NN'], ['and', 'CC'], ['such', 'JJ'], ['-LRB-', '-LRB-'], ['LOST', 'JJ'], ['HIGHWAY', 'NNP'], ['&', 'CC'], ['MEMENTO', 'NNP'], ['-RRB-', '-RRB-'], [',', ','], ['but', 'CC'], ['there', 'EX'], ['are', 'VBP'], ['good', 'JJ'], ['and', 'CC'], ['bad', 'JJ'], ['ways', 'NNS'], ['of', 'IN'], ['making', 'VBG'], ['all', 'DT'], ['types', 'NNS'], ['of', 'IN'], ['films', 'NNS'], [',', ','], ['and', 'CC'], ['these', 'DT'], ['folks', 'NNS'], ['just', 'RB'], ['did', 'VBD'], [\"n't\", 'RB'], ['snag', 'NN'], ['this', 'DT'], ['one', 'CD'], ['correctly', 'RB'], ['.', '.']], [['They', 'PRP'], ['seem', 'VBP'], ['to', 'TO'], ['have', 'VB'], ['taken', 'VBN'], ['this', 'DT'], ['pretty', 'RB'], ['neat', 'JJ'], ['concept', 'NN'], [',', ','], ['but', 'CC'], ['executed', 'VBD'], ['it', 'PRP'], ['terribly', 'RB'], ['.', '.']], [['So', 'RB'], ['what', 'WP'], ['are', 'VBP'], ['the', 'DT'], ['problems', 'NNS'], ['with', 'IN'], ['the', 'DT'], ['movie', 'NN'], ['?', '.']], [['Well', 'RB'], [',', ','], ['its', 'PRP$'], ['main', 'JJ'], ['problem', 'NN'], ['is', 'VBZ'], ['that', 'IN'], ['it', 'PRP'], [\"'s\", 'VBZ'], ['simply', 'RB'], ['too', 'RB'], ['jumbled', 'JJ'], ['.', '.']], [['It', 'PRP'], ['starts', 'VBZ'], ['off', 'RP'], ['``', '``'], ['normal', 'JJ'], [\"''\", \"''\"], ['but', 'CC'], ['then', 'RB'], ['downshifts', 'VBZ'], ['into', 'IN'], ['this', 'DT'], ['``', '``'], ['fantasy', 'NN'], [\"''\", \"''\"], ['world', 'NN'], ['in', 'IN'], ['which', 'WDT'], ['you', 'PRP'], [',', ','], ['as', 'IN'], ['an', 'DT'], ['audience', 'NN'], ['member', 'NN'], [',', ','], ['have', 'VBP'], ['no', 'DT'], ['idea', 'NN'], ['what', 'WP'], [\"'s\", 'VBZ'], ['going', 'VBG'], ['on', 'RP'], ['.', '.']], [['There', 'EX'], ['are', 'VBP'], ['dreams', 'NNS'], [',', ','], ['there', 'EX'], ['are', 'VBP'], ['characters', 'NNS'], ['coming', 'VBG'], ['back', 'RB'], ['from', 'IN'], ['the', 'DT'], ['dead', 'JJ'], [',', ','], ['there', 'EX'], ['are', 'VBP'], ['others', 'NNS'], ['who', 'WP'], ['look', 'VBP'], ['like', 'IN'], ['the', 'DT'], ['dead', 'JJ'], [',', ','], ['there', 'EX'], ['are', 'VBP'], ['strange', 'JJ'], ['apparitions', 'NNS'], [',', ','], ['there', 'EX'], ['are', 'VBP'], ['disappearances', 'NNS'], [',', ','], ['there', 'EX'], ['are', 'VBP'], ['a', 'DT'], ['looooot', 'NN'], ['of', 'IN'], ['chase', 'NN'], ['scenes', 'NNS'], [',', ','], ['there', 'EX'], ['are', 'VBP'], ['tons', 'NNS'], ['of', 'IN'], ['weird', 'JJ'], ['things', 'NNS'], ['that', 'WDT'], ['happen', 'VBP'], [',', ','], ['and', 'CC'], ['most', 'JJS'], ['of', 'IN'], ['it', 'PRP'], ['is', 'VBZ'], ['simply', 'RB'], ['not', 'RB'], ['explained', 'VBN'], ['.', '.']], [['Now', 'RB'], ['I', 'PRP'], ['personally', 'RB'], ['do', 'VBP'], [\"n't\", 'RB'], ['mind', 'VB'], ['trying', 'VBG'], ['to', 'TO'], ['unravel', 'VB'], ['a', 'DT'], ['film', 'NN'], ['every', 'DT'], ['now', 'RB'], ['and', 'CC'], ['then', 'RB'], [',', ','], ['but', 'CC'], ['when', 'WRB'], ['all', 'DT'], ['it', 'PRP'], ['does', 'VBZ'], ['is', 'VBZ'], ['give', 'VB'], ['me', 'PRP'], ['the', 'DT'], ['same', 'JJ'], ['clue', 'NN'], ['over', 'IN'], ['and', 'CC'], ['over', 'IN'], ['again', 'RB'], [',', ','], ['I', 'PRP'], ['get', 'VBP'], ['kind', 'NN'], ['of', 'IN'], ['fed', 'VBN'], ['up', 'RP'], ['after', 'IN'], ['a', 'DT'], ['while', 'NN'], [',', ','], ['which', 'WDT'], ['is', 'VBZ'], ['this', 'DT'], ['film', 'NN'], [\"'s\", 'POS'], ['biggest', 'JJS'], ['problem', 'NN'], ['.', '.']], [['It', 'PRP'], [\"'s\", 'VBZ'], ['obviously', 'RB'], ['got', 'VBN'], ['this', 'DT'], ['big', 'JJ'], ['secret', 'NN'], ['to', 'TO'], ['hide', 'VB'], [',', ','], ['but', 'CC'], ['it', 'PRP'], ['seems', 'VBZ'], ['to', 'TO'], ['want', 'VB'], ['to', 'TO'], ['hide', 'VB'], ['it', 'PRP'], ['completely', 'RB'], ['until', 'IN'], ['its', 'PRP$'], ['final', 'JJ'], ['five', 'CD'], ['minutes', 'NNS'], ['.', '.']], [['And', 'CC'], ['do', 'VBP'], ['they', 'PRP'], ['make', 'VBP'], ['things', 'NNS'], ['entertaining', 'JJ'], [',', ','], ['thrilling', 'JJ'], ['or', 'CC'], ['even', 'RB'], ['engaging', 'JJ'], [',', ','], ['in', 'IN'], ['the', 'DT'], ['meantime', 'NN'], ['?', '.']], [['Not', 'RB'], ['really', 'RB'], ['.', '.']], [['The', 'DT'], ['sad', 'JJ'], ['part', 'NN'], ['is', 'VBZ'], ['that', 'IN'], ['the', 'DT'], ['Arrow', 'NNP'], ['and', 'CC'], ['I', 'PRP'], ['both', 'DT'], ['dig', 'NN'], ['on', 'IN'], ['flicks', 'NNS'], ['like', 'IN'], ['this', 'DT'], [',', ','], ['so', 'IN'], ['we', 'PRP'], ['actually', 'RB'], ['figured', 'VBD'], ['most', 'JJS'], ['of', 'IN'], ['it', 'PRP'], ['out', 'RP'], ['by', 'IN'], ['the', 'DT'], ['half-way', 'NN'], ['point', 'NN'], [',', ','], ['so', 'RB'], ['all', 'DT'], ['of', 'IN'], ['the', 'DT'], ['strangeness', 'NN'], ['after', 'IN'], ['that', 'DT'], ['did', 'VBD'], ['start', 'VB'], ['to', 'TO'], ['make', 'VB'], ['a', 'DT'], ['little', 'JJ'], ['bit', 'NN'], ['of', 'IN'], ['sense', 'NN'], [',', ','], ['but', 'CC'], ['it', 'PRP'], ['still', 'RB'], ['did', 'VBD'], [\"n't\", 'RB'], ['the', 'DT'], ['make', 'VB'], ['the', 'DT'], ['film', 'NN'], ['all', 'DT'], ['that', 'IN'], ['more', 'JJR'], ['entertaining', 'JJ'], ['.', '.']], [['I', 'PRP'], ['guess', 'VBP'], ['the', 'DT'], ['bottom', 'JJ'], ['line', 'NN'], ['with', 'IN'], ['movies', 'NNS'], ['like', 'IN'], ['this', 'DT'], ['is', 'VBZ'], ['that', 'IN'], ['you', 'PRP'], ['should', 'MD'], ['always', 'RB'], ['make', 'VB'], ['sure', 'JJ'], ['that', 'IN'], ['the', 'DT'], ['audience', 'NN'], ['is', 'VBZ'], ['``', '``'], ['into', 'IN'], ['it', 'PRP'], [\"''\", \"''\"], ['even', 'RB'], ['before', 'IN'], ['they', 'PRP'], ['are', 'VBP'], ['given', 'VBN'], ['the', 'DT'], ['secret', 'JJ'], ['password', 'NN'], ['to', 'TO'], ['enter', 'VB'], ['your', 'PRP$'], ['world', 'NN'], ['of', 'IN'], ['understanding', 'NN'], ['.', '.']], [['I', 'PRP'], ['mean', 'VBP'], [',', ','], ['showing', 'VBG'], ['Melissa', 'NNP'], ['Sagemiller', 'NNP'], ['running', 'VBG'], ['away', 'RB'], ['from', 'IN'], ['visions', 'NNS'], ['for', 'IN'], ['about', 'RB'], ['20', 'CD'], ['minutes', 'NNS'], ['throughout', 'IN'], ['the', 'DT'], ['movie', 'NN'], ['is', 'VBZ'], ['just', 'RB'], ['plain', 'JJ'], ['lazy', 'JJ'], ['!!', 'NN']], [['Okay', 'UH'], [',', ','], ['we', 'PRP'], ['get', 'VBP'], ['it', 'PRP'], ['...', ':'], ['there', 'EX'], ['are', 'VBP'], ['people', 'NNS'], ['chasing', 'VBG'], ['her', 'PRP'], ['and', 'CC'], ['we', 'PRP'], ['do', 'VBP'], [\"n't\", 'RB'], ['know', 'VB'], ['who', 'WP'], ['they', 'PRP'], ['are', 'VBP'], ['.', '.']], [['Do', 'VB'], ['we', 'PRP'], ['really', 'RB'], ['need', 'VBP'], ['to', 'TO'], ['see', 'VB'], ['it', 'PRP'], ['over', 'IN'], ['and', 'CC'], ['over', 'IN'], ['again', 'RB'], ['?', '.']], [['How', 'WRB'], ['about', 'RB'], ['giving', 'VBG'], ['us', 'PRP'], ['different', 'JJ'], ['scenes', 'NNS'], ['offering', 'VBG'], ['further', 'JJ'], ['insight', 'NN'], ['into', 'IN'], ['all', 'DT'], ['of', 'IN'], ['the', 'DT'], ['strangeness', 'NN'], ['going', 'VBG'], ['down', 'RB'], ['in', 'IN'], ['the', 'DT'], ['movie', 'NN'], ['?', '.']], [['Apparently', 'RB'], [',', ','], ['the', 'DT'], ['studio', 'NN'], ['took', 'VBD'], ['this', 'DT'], ['film', 'NN'], ['away', 'RB'], ['from', 'IN'], ['its', 'PRP$'], ['director', 'NN'], ['and', 'CC'], ['chopped', 'VBD'], ['it', 'PRP'], ['up', 'RP'], ['themselves', 'PRP'], [',', ','], ['and', 'CC'], ['it', 'PRP'], ['shows', 'VBZ'], ['.', '.']], [['There', 'EX'], ['might', 'MD'], [\"'ve\", 'VB'], ['been', 'VBN'], ['a', 'DT'], ['pretty', 'RB'], ['decent', 'JJ'], ['teen', 'NN'], ['mind-fuck', 'NN'], ['movie', 'NN'], ['in', 'IN'], ['here', 'RB'], ['somewhere', 'RB'], [',', ','], ['but', 'CC'], ['I', 'PRP'], ['guess', 'VBP'], ['``', '``'], ['the', 'DT'], ['suits', 'NNS'], [\"''\", \"''\"], ['decided', 'VBD'], ['that', 'IN'], ['turning', 'VBG'], ['it', 'PRP'], ['into', 'IN'], ['a', 'DT'], ['music', 'NN'], ['video', 'NN'], ['with', 'IN'], ['little', 'JJ'], ['edge', 'NN'], [',', ','], ['would', 'MD'], ['make', 'VB'], ['more', 'JJR'], ['sense', 'NN'], ['.', '.']], [['The', 'DT'], ['actors', 'NNS'], ['are', 'VBP'], ['pretty', 'RB'], ['good', 'JJ'], ['for', 'IN'], ['the', 'DT'], ['most', 'JJS'], ['part', 'NN'], [',', ','], ['although', 'IN'], ['Wes', 'NNP'], ['Bentley', 'NNP'], ['just', 'RB'], ['seemed', 'VBD'], ['to', 'TO'], ['be', 'VB'], ['playing', 'VBG'], ['the', 'DT'], ['exact', 'JJ'], ['same', 'JJ'], ['character', 'NN'], ['that', 'IN'], ['he', 'PRP'], ['did', 'VBD'], ['in', 'IN'], ['AMERICAN', 'NNP'], ['BEAUTY', 'NNP'], [',', ','], ['only', 'RB'], ['in', 'IN'], ['a', 'DT'], ['new', 'JJ'], ['neighborhood', 'NN'], ['.', '.']], [['But', 'CC'], ['my', 'PRP$'], ['biggest', 'JJS'], ['kudos', 'NNS'], ['go', 'VBP'], ['out', 'RP'], ['to', 'TO'], ['Sagemiller', 'NNP'], [',', ','], ['who', 'WP'], ['holds', 'VBZ'], ['her', 'PRP$'], ['own', 'JJ'], ['throughout', 'IN'], ['the', 'DT'], ['entire', 'JJ'], ['film', 'NN'], [',', ','], ['and', 'CC'], ['actually', 'RB'], ['has', 'VBZ'], ['you', 'PRP'], ['feeling', 'VBG'], ['her', 'PRP$'], ['character', 'NN'], [\"'s\", 'POS'], ['unraveling', 'NN'], ['.', '.']], [['Overall', 'RB'], [',', ','], ['the', 'DT'], ['film', 'NN'], ['does', 'VBZ'], [\"n't\", 'RB'], ['stick', 'VB'], ['because', 'IN'], ['it', 'PRP'], ['does', 'VBZ'], [\"n't\", 'RB'], ['entertain', 'VB'], [',', ','], ['it', 'PRP'], [\"'s\", 'VBZ'], ['confusing', 'JJ'], [',', ','], ['it', 'PRP'], ['rarely', 'RB'], ['excites', 'VBZ'], ['and', 'CC'], ['it', 'PRP'], ['feels', 'VBZ'], ['pretty', 'RB'], ['redundant', 'JJ'], ['for', 'IN'], ['most', 'JJS'], ['of', 'IN'], ['its', 'PRP$'], ['runtime', 'NN'], [',', ','], ['despite', 'IN'], ['a', 'DT'], ['pretty', 'RB'], ['cool', 'JJ'], ['ending', 'VBG'], ['and', 'CC'], ['explanation', 'NN'], ['to', 'TO'], ['all', 'DT'], ['of', 'IN'], ['the', 'DT'], ['craziness', 'NN'], ['that', 'WDT'], ['came', 'VBD'], ['before', 'IN'], ['it', 'PRP'], ['.', '.']], [['Oh', 'UH'], [',', ','], ['and', 'CC'], ['by', 'IN'], ['the', 'DT'], ['way', 'NN'], [',', ','], ['this', 'DT'], ['is', 'VBZ'], ['not', 'RB'], ['a', 'DT'], ['horror', 'NN'], ['or', 'CC'], ['teen', 'JJ'], ['slasher', 'NN'], ['flick', 'NN'], ['...', ':'], ['it', 'PRP'], [\"'s\", 'VBZ'], ['just', 'RB'], ['packaged', 'VBN'], ['to', 'TO'], ['look', 'VB'], ['that', 'DT'], ['way', 'NN'], ['because', 'IN'], ['someone', 'NN'], ['is', 'VBZ'], ['apparently', 'RB'], ['assuming', 'VBG'], ['that', 'IN'], ['the', 'DT'], ['genre', 'NN'], ['is', 'VBZ'], ['still', 'RB'], ['hot', 'JJ'], ['with', 'IN'], ['the', 'DT'], ['kids', 'NNS'], ['.', '.']], [['It', 'PRP'], ['also', 'RB'], ['wrapped', 'VBD'], ['production', 'NN'], ['two', 'CD'], ['years', 'NNS'], ['ago', 'RB'], ['and', 'CC'], ['has', 'VBZ'], ['been', 'VBN'], ['sitting', 'VBG'], ['on', 'IN'], ['the', 'DT'], ['shelves', 'NNS'], ['ever', 'RB'], ['since', 'IN'], ['.', '.']], [['Whatever', 'WDT'], ['...', ':'], ['skip', 'VB'], ['it', 'PRP'], ['!', '.']]]}\n"
          ]
        }
      ]
    },
    {
      "cell_type": "markdown",
      "metadata": {
        "id": "JkDHVq_1XUVP"
      },
      "source": [
        "#### (Q2.8) What happens to the number of features (i.e., the size of the vocabulary) when using stemming as opposed to (Q2.4)? (0.5pt)\n",
        "Give actual numbers. You can use the held-out training set to determine these."
      ]
    },
    {
      "cell_type": "code",
      "execution_count": null,
      "metadata": {
        "id": "MA3vee5-rJyy"
      },
      "outputs": [],
      "source": [
        "# YOUR CODE HERE"
      ]
    },
    {
      "cell_type": "markdown",
      "metadata": {
        "id": "SoazfxbNV5Lq"
      },
      "source": [
        "### N-grams (1.5pts)\n",
        "\n",
        "A simple way of retaining some of the word\n",
        "order information when using bag-of-words representations is to use **n-gram** features.\n",
        "\n",
        "\n",
        "\n",
        "\n"
      ]
    },
    {
      "cell_type": "markdown",
      "metadata": {
        "id": "OHjy3I7-qWiu"
      },
      "source": [
        "#### (Q2.9) Retrain your classifier from (Q2.4) using **unigrams+bigrams** and **unigrams+bigrams+trigrams** as features. (1pt)\n",
        "Report accuracy and compare it with that of the approaches you have previously implemented. You are allowed to use NLTK to build n-grams from sentences."
      ]
    },
    {
      "cell_type": "code",
      "execution_count": null,
      "metadata": {
        "id": "eYuKMTOpq9jz"
      },
      "outputs": [],
      "source": [
        "# YOUR CODE HERE"
      ]
    },
    {
      "cell_type": "markdown",
      "metadata": {
        "id": "dVrGGArkrWoL"
      },
      "source": [
        "\n",
        "#### Q2.10: How many features does the BoW model have to take into account now? (0.5pt)\n",
        "How would you expect the number of features to increase theoretically (e.g., linear, square, cubed, exponential)? How does this number compare, in practice, to the number of features at (Q2.8)?\n",
        "\n",
        "Use the held-out training set once again for this.\n"
      ]
    },
    {
      "cell_type": "markdown",
      "metadata": {
        "id": "yEGZ9SV8pPaa"
      },
      "source": [
        "*Write your answer here.*"
      ]
    },
    {
      "cell_type": "code",
      "execution_count": null,
      "metadata": {
        "id": "_z8sAJeUrdtM"
      },
      "outputs": [],
      "source": [
        "# YOUR CODE HERE"
      ]
    },
    {
      "cell_type": "markdown",
      "metadata": {
        "id": "CHWKDL3YV6vh"
      },
      "source": [
        "# (3) Support Vector Machines (4pts)"
      ]
    },
    {
      "cell_type": "markdown",
      "metadata": {
        "id": "hJSYhcVaoJGt"
      },
      "source": [
        "Though simple to understand, implement, and debug, one\n",
        "major problem with the Naive Bayes classifier is that its performance\n",
        "deteriorates (becomes skewed) when it is being used with features which\n",
        "are not independent (i.e., are correlated). Another popular classifier\n",
        "that doesn’t scale as well to big data, and is not as simple to debug as\n",
        "Naive Bayes, but that doesn’t assume feature independence is the Support\n",
        "Vector Machine (SVM) classifier.\n",
        "\n",
        "You can find more details about SVMs in Chapter 7 of Bishop: Pattern Recognition and Machine Learning.\n",
        "Other sources for learning SVM:\n",
        "* http://web.mit.edu/zoya/www/SVM.pdf\n",
        "* http://www.cs.columbia.edu/~kathy/cs4701/documents/jason_svm_tutorial.pdf\n",
        "* https://pythonprogramming.net/support-vector-machine-intro-machine-learning-tutorial/\n",
        "\n",
        "\n",
        "\n",
        "\n",
        "\n",
        "\n",
        "\n",
        "Use the scikit-learn implementation of\n",
        "[SVM](http://scikit-learn.org/stable/modules/svm.html) with the default parameters. (You are not expected to perform any hyperparameter tuning, but feel free to do it if you think it gives you good insights for the discussion in question 5.)\n",
        "\n"
      ]
    },
    {
      "cell_type": "markdown",
      "metadata": {
        "id": "0LnzNtQBV8gr"
      },
      "source": [
        "#### (Q3.1): Train SVM and compare to Naive Bayes (2pts)\n",
        "\n",
        "Train an SVM classifier (sklearn.svm.LinearSVC) using the features collected for Naive Bayes. Compare the\n",
        "classification performance of the SVM classifier to that of the Naive\n",
        "Bayes classifier with smoothing.\n",
        "Use cross-validation to evaluate the performance of the classifiers.\n",
        "\n"
      ]
    },
    {
      "cell_type": "code",
      "execution_count": null,
      "metadata": {
        "id": "JBscui8Mvoz0"
      },
      "outputs": [],
      "source": [
        "# YOUR CODE HERE"
      ]
    },
    {
      "cell_type": "markdown",
      "metadata": {
        "id": "ifXVWcK0V9qY"
      },
      "source": [
        "### POS disambiguation (2pts)\n",
        "\n",
        "Now add in part-of-speech features. You will find the\n",
        "movie review dataset has already been POS-tagged for you ([here](https://catalog.ldc.upenn.edu/docs/LDC99T42/tagguid1.pdf) you find the tagset). Try to\n",
        "replicate the results obtained by Pang et al. (2002).\n",
        "\n"
      ]
    },
    {
      "cell_type": "markdown",
      "metadata": {
        "id": "xA3I82o4oWGu"
      },
      "source": [
        "####(Q3.2) Replace your features with word+POS features, and report performance with the SVM. Use cross-validation to evaluate the classifier and compare the results with (Q3.1). Does part-of-speech information help? Explain why this may be the case. (1pt)\n"
      ]
    },
    {
      "cell_type": "code",
      "execution_count": null,
      "metadata": {
        "id": "NOvjYe-t2Br6"
      },
      "outputs": [],
      "source": [
        "# YOUR CODE HERE"
      ]
    },
    {
      "cell_type": "markdown",
      "metadata": {
        "id": "L0dt_oQupUNe"
      },
      "source": [
        "*Write your answer here.*"
      ]
    },
    {
      "cell_type": "markdown",
      "metadata": {
        "id": "Su-3w87eMW0w"
      },
      "source": [
        "#### (Q3.3) Discard all closed-class words from your data (keep only nouns, verbs, adjectives, and adverbs), and report performance. Does this help? Use cross-validation to evaluate the classifier and compare the results with (Q3.2). Are closed-class words detrimental to the classifier? Explain why this may be the case. (1pt)"
      ]
    },
    {
      "cell_type": "code",
      "execution_count": null,
      "metadata": {
        "id": "CCUPlPozCYUX"
      },
      "outputs": [],
      "source": [
        "# YOUR CODE HERE"
      ]
    },
    {
      "cell_type": "markdown",
      "metadata": {
        "id": "YaxCVrs8pWSp"
      },
      "source": [
        "*Write your answer here.*"
      ]
    },
    {
      "cell_type": "markdown",
      "metadata": {
        "id": "nfwqOciAl2No"
      },
      "source": [
        "# (4) Discussion (max. 500 words). (5pts)\n",
        "\n",
        "> Based on your experiments, what are the effective features and techniques in sentiment analysis? What information do different features encode?\n",
        "Why is this important? What are the limitations of these features and techniques?\n",
        "\n"
      ]
    },
    {
      "cell_type": "markdown",
      "metadata": {
        "id": "ZYuse5WLmekZ"
      },
      "source": [
        "*Write your answer here in up to 500 words (-0.25pt for >50 extra words, -0.5 points for >100 extra words, ...)*.\n"
      ]
    },
    {
      "cell_type": "markdown",
      "metadata": {
        "id": "iwaKwfWQhRk_"
      },
      "source": [
        "# Submission\n"
      ]
    },
    {
      "cell_type": "code",
      "execution_count": null,
      "metadata": {
        "id": "aOUeaET5ijk-"
      },
      "outputs": [],
      "source": [
        "# Write your names and student numbers here:\n",
        "# Student 1 #12345\n",
        "# Student 2 #12345"
      ]
    },
    {
      "cell_type": "markdown",
      "metadata": {
        "id": "3A9K-H6Tii3X"
      },
      "source": [
        "**That's it!**\n",
        "\n",
        "- Check if you answered all questions fully and correctly.\n",
        "- Download your completed notebook using `File -> Download .ipynb`\n",
        "- Check if your answers are all included in the file you submit.\n",
        "- Submit your .ipynb file via *Canvas*. One submission per group."
      ]
    },
    {
      "cell_type": "code",
      "execution_count": null,
      "metadata": {
        "id": "YHslatYAKBrF"
      },
      "outputs": [],
      "source": []
    }
  ],
  "metadata": {
    "colab": {
      "provenance": []
    },
    "kernelspec": {
      "display_name": "Python 3",
      "name": "python3"
    },
    "language_info": {
      "codemirror_mode": {
        "name": "ipython",
        "version": 3
      },
      "file_extension": ".py",
      "mimetype": "text/x-python",
      "name": "python",
      "nbconvert_exporter": "python",
      "pygments_lexer": "ipython3",
      "version": "3.10.8"
    }
  },
  "nbformat": 4,
  "nbformat_minor": 0
}